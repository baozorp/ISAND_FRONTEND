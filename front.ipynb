{
 "cells": [
  {
   "cell_type": "code",
   "execution_count": 271,
   "id": "db95f332-0803-417e-8ebc-39bd810ae517",
   "metadata": {},
   "outputs": [
    {
     "name": "stdout",
     "output_type": "stream",
     "text": [
      "Requirement already satisfied: dash in ./venv/lib/python3.11/site-packages (2.12.1)\n",
      "Requirement already satisfied: Flask<2.3.0,>=1.0.4 in ./venv/lib/python3.11/site-packages (from dash) (2.2.5)\n",
      "Requirement already satisfied: Werkzeug<2.3.0 in ./venv/lib/python3.11/site-packages (from dash) (2.2.3)\n",
      "Requirement already satisfied: plotly>=5.0.0 in ./venv/lib/python3.11/site-packages (from dash) (5.16.1)\n",
      "Requirement already satisfied: dash-html-components==2.0.0 in ./venv/lib/python3.11/site-packages (from dash) (2.0.0)\n",
      "Requirement already satisfied: dash-core-components==2.0.0 in ./venv/lib/python3.11/site-packages (from dash) (2.0.0)\n",
      "Requirement already satisfied: dash-table==5.0.0 in ./venv/lib/python3.11/site-packages (from dash) (5.0.0)\n",
      "Requirement already satisfied: typing-extensions>=4.1.1 in ./venv/lib/python3.11/site-packages (from dash) (4.7.1)\n",
      "Requirement already satisfied: requests in ./venv/lib/python3.11/site-packages (from dash) (2.31.0)\n",
      "Requirement already satisfied: retrying in ./venv/lib/python3.11/site-packages (from dash) (1.3.4)\n",
      "Requirement already satisfied: ansi2html in ./venv/lib/python3.11/site-packages (from dash) (1.8.0)\n",
      "Requirement already satisfied: nest-asyncio in ./venv/lib/python3.11/site-packages (from dash) (1.5.7)\n",
      "Requirement already satisfied: setuptools in ./venv/lib/python3.11/site-packages (from dash) (68.0.0)\n",
      "Requirement already satisfied: Jinja2>=3.0 in ./venv/lib/python3.11/site-packages (from Flask<2.3.0,>=1.0.4->dash) (3.1.2)\n",
      "Requirement already satisfied: itsdangerous>=2.0 in ./venv/lib/python3.11/site-packages (from Flask<2.3.0,>=1.0.4->dash) (2.1.2)\n",
      "Requirement already satisfied: click>=8.0 in ./venv/lib/python3.11/site-packages (from Flask<2.3.0,>=1.0.4->dash) (8.1.7)\n",
      "Requirement already satisfied: tenacity>=6.2.0 in ./venv/lib/python3.11/site-packages (from plotly>=5.0.0->dash) (8.2.3)\n",
      "Requirement already satisfied: packaging in ./venv/lib/python3.11/site-packages (from plotly>=5.0.0->dash) (23.1)\n",
      "Requirement already satisfied: MarkupSafe>=2.1.1 in ./venv/lib/python3.11/site-packages (from Werkzeug<2.3.0->dash) (2.1.3)\n",
      "Requirement already satisfied: charset-normalizer<4,>=2 in ./venv/lib/python3.11/site-packages (from requests->dash) (3.2.0)\n",
      "Requirement already satisfied: idna<4,>=2.5 in ./venv/lib/python3.11/site-packages (from requests->dash) (3.4)\n",
      "Requirement already satisfied: urllib3<3,>=1.21.1 in ./venv/lib/python3.11/site-packages (from requests->dash) (2.0.4)\n",
      "Requirement already satisfied: certifi>=2017.4.17 in ./venv/lib/python3.11/site-packages (from requests->dash) (2023.7.22)\n",
      "Requirement already satisfied: six>=1.7.0 in ./venv/lib/python3.11/site-packages (from retrying->dash) (1.16.0)\n",
      "Requirement already satisfied: dash-html-components in ./venv/lib/python3.11/site-packages (2.0.0)\n",
      "Requirement already satisfied: dash-core-components in ./venv/lib/python3.11/site-packages (2.0.0)\n",
      "Requirement already satisfied: dash-table in ./venv/lib/python3.11/site-packages (5.0.0)\n"
     ]
    }
   ],
   "source": [
    "!pip install dash\n",
    "!pip install dash-html-components\n",
    "!pip install dash-core-components\n",
    "!pip install dash-table"
   ]
  },
  {
   "cell_type": "code",
   "execution_count": 272,
   "id": "8dcd1850-6d88-48dc-9d5c-c75a54b46006",
   "metadata": {},
   "outputs": [
    {
     "name": "stdout",
     "output_type": "stream",
     "text": [
      "Requirement already satisfied: pandas in ./venv/lib/python3.11/site-packages (2.0.3)\n",
      "Requirement already satisfied: python-dateutil>=2.8.2 in ./venv/lib/python3.11/site-packages (from pandas) (2.8.2)\n",
      "Requirement already satisfied: pytz>=2020.1 in ./venv/lib/python3.11/site-packages (from pandas) (2023.3)\n",
      "Requirement already satisfied: tzdata>=2022.1 in ./venv/lib/python3.11/site-packages (from pandas) (2023.3)\n",
      "Requirement already satisfied: numpy>=1.21.0 in ./venv/lib/python3.11/site-packages (from pandas) (1.25.2)\n",
      "Requirement already satisfied: six>=1.5 in ./venv/lib/python3.11/site-packages (from python-dateutil>=2.8.2->pandas) (1.16.0)\n",
      "Requirement already satisfied: numpy in ./venv/lib/python3.11/site-packages (1.25.2)\n"
     ]
    }
   ],
   "source": [
    "!pip install pandas\n",
    "!pip install numpy"
   ]
  },
  {
   "cell_type": "code",
   "execution_count": 273,
   "id": "d979ab4b-384b-4ac8-a740-ef6f7ae439a3",
   "metadata": {},
   "outputs": [],
   "source": [
    "import functools\n",
    "import operator\n",
    "\n",
    "from typing import *\n",
    "\n",
    "import pprint\n",
    "import collections\n",
    "\n",
    "import json"
   ]
  },
  {
   "cell_type": "code",
   "execution_count": 274,
   "id": "0fad207a-ae69-4e63-95b0-596f9a52818f",
   "metadata": {},
   "outputs": [],
   "source": [
    "import pandas as pd\n",
    "import numpy as np"
   ]
  },
  {
   "cell_type": "code",
   "execution_count": 275,
   "id": "8dcc0e1e-40df-4e52-8572-1c82596f85f8",
   "metadata": {},
   "outputs": [],
   "source": [
    "# Множество номеров текстов:\n",
    "IText = Union[int, Iterable[int]]\n",
    "\n",
    "# Множество номеров терминов:\n",
    "ITermId = Union[int, Iterable[int]]\n",
    "\n",
    "# Словарь для предрасчитанных строк из g_deltas. Ключ -- номер текста.\n",
    "# Если None -- будет использована функция get_delta_row():\n",
    "IDeltaSource = Optional[Dict[int, np.ndarray]]\n",
    "\n",
    "# Словарь для набора множеств из множеств номеров терминов.\n",
    "# См. terms_view(...):\n",
    "IThesaurusView = Dict[Any, Iterable[int]]"
   ]
  },
  {
   "cell_type": "code",
   "execution_count": 276,
   "id": "c3139bea-c342-4028-97a7-c988c2b4f788",
   "metadata": {},
   "outputs": [],
   "source": [
    "_deltas_df: pd.DataFrame = pd.\\\n",
    "        read_csv('./termwise_prnd_deltas.csv', dtype=np.int32).\\\n",
    "        sort_index().\\\n",
    "        to_numpy()\n",
    "# g_deltas = _deltas_df[_g_deltas_df]\n",
    "g_deltas = _deltas_df[:, 1:]\n",
    "g_deltas_l_index = _deltas_df[:, 0]\n",
    "\n",
    "def get_delta_rows(\n",
    "    a_l: IText,\n",
    "    a_delta_source: IDeltaSource = None\n",
    ") -> np.ndarray:\n",
    "    \"\"\"\n",
    "    Возвращает словарь numpy-массивов со значениями дельт заданного текста a_l.\n",
    "    Ключ -- номер текста. Дельта термина номер i лежит на i-й позиции массива.\n",
    "    \n",
    "    Если a_delta_source не равно None -- просто возвращает сам a_delta_source.\n",
    "    \"\"\"\n",
    "    \n",
    "    if isinstance(a_l, int):\n",
    "        a_l = [a_l]\n",
    "    elif not isinstance(a_l, collections.abc.Iterable):\n",
    "        raise ValueError(f'В качестве a_l передано не int и не итерируемое: {a_l}')\n",
    "    \n",
    "    if a_delta_source is not None:\n",
    "        return a_delta_source\n",
    "    \n",
    "    return {l: g_deltas[np.searchsorted(g_deltas_l_index, l)] for l in a_l}"
   ]
  },
  {
   "cell_type": "code",
   "execution_count": 277,
   "id": "14a56d73-02b2-436c-8295-5e447a29c1e6",
   "metadata": {},
   "outputs": [
    {
     "data": {
      "text/html": [
       "\n",
       "        <iframe\n",
       "            width=\"100%\"\n",
       "            height=\"650\"\n",
       "            src=\"http://127.0.0.1:8050/\"\n",
       "            frameborder=\"0\"\n",
       "            allowfullscreen\n",
       "            \n",
       "        ></iframe>\n",
       "        "
      ],
      "text/plain": [
       "<IPython.lib.display.IFrame at 0x140d57850>"
      ]
     },
     "metadata": {},
     "output_type": "display_data"
    }
   ],
   "source": [
    "import dash\n",
    "import pandas as pd\n",
    "from dash import dcc, html, Input, Output, callback\n",
    "\n",
    "external_stylesheets = ['https://codepen.io/chriddyp/pen/bWLwgP.css']\n",
    "\n",
    "app = dash.Dash(__name__, external_stylesheets=external_stylesheets)\n",
    "\n",
    "def combine_names(row):\n",
    "    return f\"{row['Фамилия']} {row['Имя']} {row['Отчество']}\"\n",
    "\n",
    "g_persons_df = pd.read_csv('./db_persons.csv')[['ID', 'Фамилия', 'Имя', 'Отчество']]\n",
    "g_persons_df['ФИО'] = g_persons_df.apply(combine_names, axis=1)\n",
    "gpersons = g_persons_df[['ФИО', 'ID']]\n",
    "gpersons.columns = ['label', 'value']\n",
    "gpersons = gpersons.to_dict(orient='records')\n",
    "\n",
    "app.layout = html.Div([\n",
    "    html.Label('Выберите автора'),\n",
    "    dcc.Dropdown(\n",
    "        options=gpersons,\n",
    "        placeholder=\"Выберите автора\",\n",
    "        id='author',\n",
    "    ),\n",
    "    html.Div(id='selected-author'),  # Для вывода выбранного значения\n",
    "    dcc.Dropdown(id='works-dropdown', \n",
    "                 multi=True,\n",
    "                 optionHeight=40),  # Для списка \"Работы\"\n",
    "    html.Div(id='selected-pub'),  # Для вывода выбранного значения\n",
    "], style={'columnCount': 1})\n",
    "\n",
    "# Глобальная переменная для хранения значения автора\n",
    "selected_author_value = None\n",
    "\n",
    "# Функция обратного вызова для обновления выбранного автора\n",
    "@app.callback(\n",
    "    Output('selected-author', 'children'),\n",
    "    Input('author', 'value')\n",
    ")\n",
    "def update_selected_author(selected_value):\n",
    "    global selected_author_value\n",
    "    selected_author_value = selected_value\n",
    "    \n",
    "    if selected_value is None:\n",
    "        return \"Выберите автора\"\n",
    "    else:\n",
    "        return f\"Выбран автор: {selected_value}\"\n",
    "\n",
    "\n",
    "\n",
    "# Глобальная переменная для хранения значения автора\n",
    "selected_pub_value = []\n",
    "\n",
    "\n",
    "@app.callback(\n",
    "    Output('works-dropdown', 'options', allow_duplicate=True),\n",
    "    Output('works-dropdown', 'value', allow_duplicate=True),\n",
    "    Output('selected-pub', 'children'),\n",
    "    Input('works-dropdown', 'value'),\n",
    "    prevent_initial_call=True\n",
    ")\n",
    "def update_selected_pub(selected_value):\n",
    "    global selected_author_value\n",
    "    global selected_pub_value\n",
    "\n",
    "    selected_pub_value = selected_value\n",
    "    if selected_value is None:\n",
    "        return [], [], []\n",
    "    if selected_value.count('Все работы'):\n",
    "        return [{'label': \"Все работы\", 'value': 'Все работы'}], ['Все работы'], ['Все работы']\n",
    "    else:\n",
    "        all_options = update_works_dropdown(selected_author_value)\n",
    "        return all_options[0], selected_value, selected_pub_value\n",
    "\n",
    "\n",
    "# Функция обратного вызова для обновления списка \"Работы\"\n",
    "@app.callback(\n",
    "    Output('works-dropdown', 'options'),\n",
    "    Output('works-dropdown', 'value'),\n",
    "    Input('author', 'value'),\n",
    ")\n",
    "def update_works_dropdown(selected_value):\n",
    "    \n",
    "    if selected_value is None:\n",
    "        return [], []\n",
    "\n",
    "    # Загрузка данных из файла \"data_from_json_files.csv\"\n",
    "    data_df = pd.read_csv('./data_from_json_files.csv')\n",
    "\n",
    "    # Преобразование выбранного ID автора в строку\n",
    "    selected_value_str = str(selected_value)\n",
    "\n",
    "    # Разделение значения \"Авторы\" на список ID авторов\n",
    "    data_df['Авторы'] = data_df['Авторы'].apply(lambda x: [] if pd.isna(x) else x.split(', '))\n",
    "\n",
    "    # Фильтрация строк, в которых в списке ID авторов есть выбранный автор\n",
    "    works = data_df[data_df['Авторы'].apply(lambda x: selected_value_str in x)]\n",
    "\n",
    "    works_data = works[['Название', 'ID']].drop_duplicates(subset=['ID'])\n",
    "    # Обрезаем названия работ до первых 15 символов\n",
    "    works_data['Название'] = works_data['Название'].str[:200]\n",
    "    \n",
    "    works_data.columns = ['label', 'value']\n",
    "    works_data = works_data.to_dict(orient='records')\n",
    "    #print(works_data)\n",
    "    works_data.insert(0, {'label': \"Все работы\", 'value': 'Все работы'})\n",
    "    return works_data, []\n",
    "\n",
    "\n",
    "\n",
    "if __name__ == '__main__':\n",
    "    app.run_server(debug=True)\n"
   ]
  },
  {
   "cell_type": "code",
   "execution_count": 286,
   "id": "9d5cae94-1d16-48dc-8c67-44b54f2735d3",
   "metadata": {},
   "outputs": [
    {
     "data": {
      "text/plain": [
       "array([[  853,     0,     0, ...,     0,     0,     0],\n",
       "       [  911,     0,     0, ...,     0,     0,     0],\n",
       "       [  927,     0,     0, ...,     0,     0,     0],\n",
       "       ...,\n",
       "       [72691,     0,     0, ...,     0,     0,     0],\n",
       "       [72698,     0,     0, ...,     0,     0,     0],\n",
       "       [72701,     0,     0, ...,     0,     0,     0]], dtype=int32)"
      ]
     },
     "execution_count": 286,
     "metadata": {},
     "output_type": "execute_result"
    }
   ],
   "source": [
    "_deltas_df"
   ]
  },
  {
   "cell_type": "code",
   "execution_count": 342,
   "id": "febd57e1-70ca-4575-a97b-1f890d2560d9",
   "metadata": {},
   "outputs": [],
   "source": [
    "#global selected_pub_value\n",
    "term_dict_array = []\n",
    "\n",
    "for i in selected_pub_value:\n",
    "    for j in _deltas_df:\n",
    "        if j[0] == i:\n",
    "            term_dict = {}\n",
    "            for k in range(1, len(j)):\n",
    "                if j[k] != 0:\n",
    "                    term_dict[k-1] = j[k]\n",
    "            term_dict_array.append(term_dict)"
   ]
  },
  {
   "cell_type": "code",
   "execution_count": 343,
   "id": "ad97125c-da44-456f-a39e-4d7a590f6611",
   "metadata": {},
   "outputs": [],
   "source": [
    "def find_areas_by_term_dicts(data, pub_number, count):\n",
    "    stack = [((), data)]\n",
    "    output = []\n",
    "    while stack:\n",
    "        path, current = stack.pop()\n",
    "        if isinstance(current, dict):\n",
    "            for key, value in current.items():\n",
    "                if path:\n",
    "                    new_path = f\"{path}.{key}\"\n",
    "                else:\n",
    "                    new_path = key\n",
    "                stack.append((new_path, value))\n",
    "        elif isinstance(current, list):\n",
    "            for i, item in enumerate(current):\n",
    "                new_path = f\"{path}[{i}]\"\n",
    "                stack.append((new_path, item))\n",
    "        else:\n",
    "            if current == pub_number:\n",
    "                path = path.split(\".\")\n",
    "                filtered_array = [item for item in path if 'children' not in item and 'terms' not in item and 'thesaurus' not in item]\n",
    "                output.append({current: [filtered_array, count]})\n",
    "    return output\n",
    "\n",
    "# Входные данные\n",
    "hierarchy_data = json.load(open('./terms.json', 'r'))\n",
    "path_array = []\n",
    "for i in term_dict_array:\n",
    "    for j in i:\n",
    "        path_array.append(find_areas_by_term_dicts(hierarchy_data, j, i[j]))"
   ]
  },
  {
   "cell_type": "code",
   "execution_count": 346,
   "id": "0d7691e7-bf80-4251-afc3-b8eacbf37b87",
   "metadata": {},
   "outputs": [
    {
     "name": "stdout",
     "output_type": "stream",
     "text": [
      "{'Общенаучные термины': 143, 'Теория графов': 0, 'Теория выбора и принятия решений': 1, 'Теория вероятностей и математическая статистика': 0, 'Вычислительные и коммуникационные системы и сети': 0, 'Навигация и управление движением': 0, 'Транспорт': 0, 'Теория оптимизации': 1}\n"
     ]
    }
   ],
   "source": [
    "unik_path = {}\n",
    "for k in path_array:\n",
    "    for i in k:\n",
    "        for j in i:\n",
    "            # print(unik_path[i[j][0][0]], i[j][1])\n",
    "            if i[j][0][1] in unik_path:\n",
    "                unik_path[i[j][0][1]] += i[j][1]\n",
    "            else:\n",
    "                unik_path[i[j][0][1]] = 0\n",
    "print(unik_path)"
   ]
  },
  {
   "cell_type": "code",
   "execution_count": 347,
   "id": "ab521add-2ba2-49c7-8920-5249a9980020",
   "metadata": {},
   "outputs": [
    {
     "data": {
      "application/vnd.plotly.v1+json": {
       "config": {
        "plotlyServerURL": "https://plot.ly"
       },
       "data": [
        {
         "alignmentgroup": "True",
         "hovertemplate": "color=Общенаучные термины<br>Категории=%{x}<br>Количество вхождений=%{y}<extra></extra>",
         "legendgroup": "Общенаучные термины",
         "marker": {
          "color": "#636efa",
          "pattern": {
           "shape": ""
          }
         },
         "name": "Общенаучные термины",
         "offsetgroup": "Общенаучные термины",
         "orientation": "v",
         "showlegend": true,
         "textposition": "auto",
         "type": "bar",
         "x": [
          "Общенаучные термины"
         ],
         "xaxis": "x",
         "y": [
          143
         ],
         "yaxis": "y"
        },
        {
         "alignmentgroup": "True",
         "hovertemplate": "color=Теория графов<br>Категории=%{x}<br>Количество вхождений=%{y}<extra></extra>",
         "legendgroup": "Теория графов",
         "marker": {
          "color": "#EF553B",
          "pattern": {
           "shape": ""
          }
         },
         "name": "Теория графов",
         "offsetgroup": "Теория графов",
         "orientation": "v",
         "showlegend": true,
         "textposition": "auto",
         "type": "bar",
         "x": [
          "Теория графов"
         ],
         "xaxis": "x",
         "y": [
          0
         ],
         "yaxis": "y"
        },
        {
         "alignmentgroup": "True",
         "hovertemplate": "color=Теория выбора и принятия решений<br>Категории=%{x}<br>Количество вхождений=%{y}<extra></extra>",
         "legendgroup": "Теория выбора и принятия решений",
         "marker": {
          "color": "#00cc96",
          "pattern": {
           "shape": ""
          }
         },
         "name": "Теория выбора и принятия решений",
         "offsetgroup": "Теория выбора и принятия решений",
         "orientation": "v",
         "showlegend": true,
         "textposition": "auto",
         "type": "bar",
         "x": [
          "Теория выбора и принятия решений"
         ],
         "xaxis": "x",
         "y": [
          1
         ],
         "yaxis": "y"
        },
        {
         "alignmentgroup": "True",
         "hovertemplate": "color=Теория вероятностей и математическая статистика<br>Категории=%{x}<br>Количество вхождений=%{y}<extra></extra>",
         "legendgroup": "Теория вероятностей и математическая статистика",
         "marker": {
          "color": "#ab63fa",
          "pattern": {
           "shape": ""
          }
         },
         "name": "Теория вероятностей и математическая статистика",
         "offsetgroup": "Теория вероятностей и математическая статистика",
         "orientation": "v",
         "showlegend": true,
         "textposition": "auto",
         "type": "bar",
         "x": [
          "Теория вероятностей и математическая статистика"
         ],
         "xaxis": "x",
         "y": [
          0
         ],
         "yaxis": "y"
        },
        {
         "alignmentgroup": "True",
         "hovertemplate": "color=Вычислительные и коммуникационные системы и сети<br>Категории=%{x}<br>Количество вхождений=%{y}<extra></extra>",
         "legendgroup": "Вычислительные и коммуникационные системы и сети",
         "marker": {
          "color": "#FFA15A",
          "pattern": {
           "shape": ""
          }
         },
         "name": "Вычислительные и коммуникационные системы и сети",
         "offsetgroup": "Вычислительные и коммуникационные системы и сети",
         "orientation": "v",
         "showlegend": true,
         "textposition": "auto",
         "type": "bar",
         "x": [
          "Вычислительные и коммуникационные системы и сети"
         ],
         "xaxis": "x",
         "y": [
          0
         ],
         "yaxis": "y"
        },
        {
         "alignmentgroup": "True",
         "hovertemplate": "color=Навигация и управление движением<br>Категории=%{x}<br>Количество вхождений=%{y}<extra></extra>",
         "legendgroup": "Навигация и управление движением",
         "marker": {
          "color": "#19d3f3",
          "pattern": {
           "shape": ""
          }
         },
         "name": "Навигация и управление движением",
         "offsetgroup": "Навигация и управление движением",
         "orientation": "v",
         "showlegend": true,
         "textposition": "auto",
         "type": "bar",
         "x": [
          "Навигация и управление движением"
         ],
         "xaxis": "x",
         "y": [
          0
         ],
         "yaxis": "y"
        },
        {
         "alignmentgroup": "True",
         "hovertemplate": "color=Транспорт<br>Категории=%{x}<br>Количество вхождений=%{y}<extra></extra>",
         "legendgroup": "Транспорт",
         "marker": {
          "color": "#FF6692",
          "pattern": {
           "shape": ""
          }
         },
         "name": "Транспорт",
         "offsetgroup": "Транспорт",
         "orientation": "v",
         "showlegend": true,
         "textposition": "auto",
         "type": "bar",
         "x": [
          "Транспорт"
         ],
         "xaxis": "x",
         "y": [
          0
         ],
         "yaxis": "y"
        },
        {
         "alignmentgroup": "True",
         "hovertemplate": "color=Теория оптимизации<br>Категории=%{x}<br>Количество вхождений=%{y}<extra></extra>",
         "legendgroup": "Теория оптимизации",
         "marker": {
          "color": "#B6E880",
          "pattern": {
           "shape": ""
          }
         },
         "name": "Теория оптимизации",
         "offsetgroup": "Теория оптимизации",
         "orientation": "v",
         "showlegend": true,
         "textposition": "auto",
         "type": "bar",
         "x": [
          "Теория оптимизации"
         ],
         "xaxis": "x",
         "y": [
          1
         ],
         "yaxis": "y"
        }
       ],
       "layout": {
        "autosize": true,
        "barmode": "relative",
        "legend": {
         "title": {
          "text": "color"
         },
         "tracegroupgap": 0
        },
        "template": {
         "data": {
          "bar": [
           {
            "error_x": {
             "color": "#2a3f5f"
            },
            "error_y": {
             "color": "#2a3f5f"
            },
            "marker": {
             "line": {
              "color": "#E5ECF6",
              "width": 0.5
             },
             "pattern": {
              "fillmode": "overlay",
              "size": 10,
              "solidity": 0.2
             }
            },
            "type": "bar"
           }
          ],
          "barpolar": [
           {
            "marker": {
             "line": {
              "color": "#E5ECF6",
              "width": 0.5
             },
             "pattern": {
              "fillmode": "overlay",
              "size": 10,
              "solidity": 0.2
             }
            },
            "type": "barpolar"
           }
          ],
          "carpet": [
           {
            "aaxis": {
             "endlinecolor": "#2a3f5f",
             "gridcolor": "white",
             "linecolor": "white",
             "minorgridcolor": "white",
             "startlinecolor": "#2a3f5f"
            },
            "baxis": {
             "endlinecolor": "#2a3f5f",
             "gridcolor": "white",
             "linecolor": "white",
             "minorgridcolor": "white",
             "startlinecolor": "#2a3f5f"
            },
            "type": "carpet"
           }
          ],
          "choropleth": [
           {
            "colorbar": {
             "outlinewidth": 0,
             "ticks": ""
            },
            "type": "choropleth"
           }
          ],
          "contour": [
           {
            "colorbar": {
             "outlinewidth": 0,
             "ticks": ""
            },
            "colorscale": [
             [
              0,
              "#0d0887"
             ],
             [
              0.1111111111111111,
              "#46039f"
             ],
             [
              0.2222222222222222,
              "#7201a8"
             ],
             [
              0.3333333333333333,
              "#9c179e"
             ],
             [
              0.4444444444444444,
              "#bd3786"
             ],
             [
              0.5555555555555556,
              "#d8576b"
             ],
             [
              0.6666666666666666,
              "#ed7953"
             ],
             [
              0.7777777777777778,
              "#fb9f3a"
             ],
             [
              0.8888888888888888,
              "#fdca26"
             ],
             [
              1,
              "#f0f921"
             ]
            ],
            "type": "contour"
           }
          ],
          "contourcarpet": [
           {
            "colorbar": {
             "outlinewidth": 0,
             "ticks": ""
            },
            "type": "contourcarpet"
           }
          ],
          "heatmap": [
           {
            "colorbar": {
             "outlinewidth": 0,
             "ticks": ""
            },
            "colorscale": [
             [
              0,
              "#0d0887"
             ],
             [
              0.1111111111111111,
              "#46039f"
             ],
             [
              0.2222222222222222,
              "#7201a8"
             ],
             [
              0.3333333333333333,
              "#9c179e"
             ],
             [
              0.4444444444444444,
              "#bd3786"
             ],
             [
              0.5555555555555556,
              "#d8576b"
             ],
             [
              0.6666666666666666,
              "#ed7953"
             ],
             [
              0.7777777777777778,
              "#fb9f3a"
             ],
             [
              0.8888888888888888,
              "#fdca26"
             ],
             [
              1,
              "#f0f921"
             ]
            ],
            "type": "heatmap"
           }
          ],
          "heatmapgl": [
           {
            "colorbar": {
             "outlinewidth": 0,
             "ticks": ""
            },
            "colorscale": [
             [
              0,
              "#0d0887"
             ],
             [
              0.1111111111111111,
              "#46039f"
             ],
             [
              0.2222222222222222,
              "#7201a8"
             ],
             [
              0.3333333333333333,
              "#9c179e"
             ],
             [
              0.4444444444444444,
              "#bd3786"
             ],
             [
              0.5555555555555556,
              "#d8576b"
             ],
             [
              0.6666666666666666,
              "#ed7953"
             ],
             [
              0.7777777777777778,
              "#fb9f3a"
             ],
             [
              0.8888888888888888,
              "#fdca26"
             ],
             [
              1,
              "#f0f921"
             ]
            ],
            "type": "heatmapgl"
           }
          ],
          "histogram": [
           {
            "marker": {
             "pattern": {
              "fillmode": "overlay",
              "size": 10,
              "solidity": 0.2
             }
            },
            "type": "histogram"
           }
          ],
          "histogram2d": [
           {
            "colorbar": {
             "outlinewidth": 0,
             "ticks": ""
            },
            "colorscale": [
             [
              0,
              "#0d0887"
             ],
             [
              0.1111111111111111,
              "#46039f"
             ],
             [
              0.2222222222222222,
              "#7201a8"
             ],
             [
              0.3333333333333333,
              "#9c179e"
             ],
             [
              0.4444444444444444,
              "#bd3786"
             ],
             [
              0.5555555555555556,
              "#d8576b"
             ],
             [
              0.6666666666666666,
              "#ed7953"
             ],
             [
              0.7777777777777778,
              "#fb9f3a"
             ],
             [
              0.8888888888888888,
              "#fdca26"
             ],
             [
              1,
              "#f0f921"
             ]
            ],
            "type": "histogram2d"
           }
          ],
          "histogram2dcontour": [
           {
            "colorbar": {
             "outlinewidth": 0,
             "ticks": ""
            },
            "colorscale": [
             [
              0,
              "#0d0887"
             ],
             [
              0.1111111111111111,
              "#46039f"
             ],
             [
              0.2222222222222222,
              "#7201a8"
             ],
             [
              0.3333333333333333,
              "#9c179e"
             ],
             [
              0.4444444444444444,
              "#bd3786"
             ],
             [
              0.5555555555555556,
              "#d8576b"
             ],
             [
              0.6666666666666666,
              "#ed7953"
             ],
             [
              0.7777777777777778,
              "#fb9f3a"
             ],
             [
              0.8888888888888888,
              "#fdca26"
             ],
             [
              1,
              "#f0f921"
             ]
            ],
            "type": "histogram2dcontour"
           }
          ],
          "mesh3d": [
           {
            "colorbar": {
             "outlinewidth": 0,
             "ticks": ""
            },
            "type": "mesh3d"
           }
          ],
          "parcoords": [
           {
            "line": {
             "colorbar": {
              "outlinewidth": 0,
              "ticks": ""
             }
            },
            "type": "parcoords"
           }
          ],
          "pie": [
           {
            "automargin": true,
            "type": "pie"
           }
          ],
          "scatter": [
           {
            "fillpattern": {
             "fillmode": "overlay",
             "size": 10,
             "solidity": 0.2
            },
            "type": "scatter"
           }
          ],
          "scatter3d": [
           {
            "line": {
             "colorbar": {
              "outlinewidth": 0,
              "ticks": ""
             }
            },
            "marker": {
             "colorbar": {
              "outlinewidth": 0,
              "ticks": ""
             }
            },
            "type": "scatter3d"
           }
          ],
          "scattercarpet": [
           {
            "marker": {
             "colorbar": {
              "outlinewidth": 0,
              "ticks": ""
             }
            },
            "type": "scattercarpet"
           }
          ],
          "scattergeo": [
           {
            "marker": {
             "colorbar": {
              "outlinewidth": 0,
              "ticks": ""
             }
            },
            "type": "scattergeo"
           }
          ],
          "scattergl": [
           {
            "marker": {
             "colorbar": {
              "outlinewidth": 0,
              "ticks": ""
             }
            },
            "type": "scattergl"
           }
          ],
          "scattermapbox": [
           {
            "marker": {
             "colorbar": {
              "outlinewidth": 0,
              "ticks": ""
             }
            },
            "type": "scattermapbox"
           }
          ],
          "scatterpolar": [
           {
            "marker": {
             "colorbar": {
              "outlinewidth": 0,
              "ticks": ""
             }
            },
            "type": "scatterpolar"
           }
          ],
          "scatterpolargl": [
           {
            "marker": {
             "colorbar": {
              "outlinewidth": 0,
              "ticks": ""
             }
            },
            "type": "scatterpolargl"
           }
          ],
          "scatterternary": [
           {
            "marker": {
             "colorbar": {
              "outlinewidth": 0,
              "ticks": ""
             }
            },
            "type": "scatterternary"
           }
          ],
          "surface": [
           {
            "colorbar": {
             "outlinewidth": 0,
             "ticks": ""
            },
            "colorscale": [
             [
              0,
              "#0d0887"
             ],
             [
              0.1111111111111111,
              "#46039f"
             ],
             [
              0.2222222222222222,
              "#7201a8"
             ],
             [
              0.3333333333333333,
              "#9c179e"
             ],
             [
              0.4444444444444444,
              "#bd3786"
             ],
             [
              0.5555555555555556,
              "#d8576b"
             ],
             [
              0.6666666666666666,
              "#ed7953"
             ],
             [
              0.7777777777777778,
              "#fb9f3a"
             ],
             [
              0.8888888888888888,
              "#fdca26"
             ],
             [
              1,
              "#f0f921"
             ]
            ],
            "type": "surface"
           }
          ],
          "table": [
           {
            "cells": {
             "fill": {
              "color": "#EBF0F8"
             },
             "line": {
              "color": "white"
             }
            },
            "header": {
             "fill": {
              "color": "#C8D4E3"
             },
             "line": {
              "color": "white"
             }
            },
            "type": "table"
           }
          ]
         },
         "layout": {
          "annotationdefaults": {
           "arrowcolor": "#2a3f5f",
           "arrowhead": 0,
           "arrowwidth": 1
          },
          "autotypenumbers": "strict",
          "coloraxis": {
           "colorbar": {
            "outlinewidth": 0,
            "ticks": ""
           }
          },
          "colorscale": {
           "diverging": [
            [
             0,
             "#8e0152"
            ],
            [
             0.1,
             "#c51b7d"
            ],
            [
             0.2,
             "#de77ae"
            ],
            [
             0.3,
             "#f1b6da"
            ],
            [
             0.4,
             "#fde0ef"
            ],
            [
             0.5,
             "#f7f7f7"
            ],
            [
             0.6,
             "#e6f5d0"
            ],
            [
             0.7,
             "#b8e186"
            ],
            [
             0.8,
             "#7fbc41"
            ],
            [
             0.9,
             "#4d9221"
            ],
            [
             1,
             "#276419"
            ]
           ],
           "sequential": [
            [
             0,
             "#0d0887"
            ],
            [
             0.1111111111111111,
             "#46039f"
            ],
            [
             0.2222222222222222,
             "#7201a8"
            ],
            [
             0.3333333333333333,
             "#9c179e"
            ],
            [
             0.4444444444444444,
             "#bd3786"
            ],
            [
             0.5555555555555556,
             "#d8576b"
            ],
            [
             0.6666666666666666,
             "#ed7953"
            ],
            [
             0.7777777777777778,
             "#fb9f3a"
            ],
            [
             0.8888888888888888,
             "#fdca26"
            ],
            [
             1,
             "#f0f921"
            ]
           ],
           "sequentialminus": [
            [
             0,
             "#0d0887"
            ],
            [
             0.1111111111111111,
             "#46039f"
            ],
            [
             0.2222222222222222,
             "#7201a8"
            ],
            [
             0.3333333333333333,
             "#9c179e"
            ],
            [
             0.4444444444444444,
             "#bd3786"
            ],
            [
             0.5555555555555556,
             "#d8576b"
            ],
            [
             0.6666666666666666,
             "#ed7953"
            ],
            [
             0.7777777777777778,
             "#fb9f3a"
            ],
            [
             0.8888888888888888,
             "#fdca26"
            ],
            [
             1,
             "#f0f921"
            ]
           ]
          },
          "colorway": [
           "#636efa",
           "#EF553B",
           "#00cc96",
           "#ab63fa",
           "#FFA15A",
           "#19d3f3",
           "#FF6692",
           "#B6E880",
           "#FF97FF",
           "#FECB52"
          ],
          "font": {
           "color": "#2a3f5f"
          },
          "geo": {
           "bgcolor": "white",
           "lakecolor": "white",
           "landcolor": "#E5ECF6",
           "showlakes": true,
           "showland": true,
           "subunitcolor": "white"
          },
          "hoverlabel": {
           "align": "left"
          },
          "hovermode": "closest",
          "mapbox": {
           "style": "light"
          },
          "paper_bgcolor": "white",
          "plot_bgcolor": "#E5ECF6",
          "polar": {
           "angularaxis": {
            "gridcolor": "white",
            "linecolor": "white",
            "ticks": ""
           },
           "bgcolor": "#E5ECF6",
           "radialaxis": {
            "gridcolor": "white",
            "linecolor": "white",
            "ticks": ""
           }
          },
          "scene": {
           "xaxis": {
            "backgroundcolor": "#E5ECF6",
            "gridcolor": "white",
            "gridwidth": 2,
            "linecolor": "white",
            "showbackground": true,
            "ticks": "",
            "zerolinecolor": "white"
           },
           "yaxis": {
            "backgroundcolor": "#E5ECF6",
            "gridcolor": "white",
            "gridwidth": 2,
            "linecolor": "white",
            "showbackground": true,
            "ticks": "",
            "zerolinecolor": "white"
           },
           "zaxis": {
            "backgroundcolor": "#E5ECF6",
            "gridcolor": "white",
            "gridwidth": 2,
            "linecolor": "white",
            "showbackground": true,
            "ticks": "",
            "zerolinecolor": "white"
           }
          },
          "shapedefaults": {
           "line": {
            "color": "#2a3f5f"
           }
          },
          "ternary": {
           "aaxis": {
            "gridcolor": "white",
            "linecolor": "white",
            "ticks": ""
           },
           "baxis": {
            "gridcolor": "white",
            "linecolor": "white",
            "ticks": ""
           },
           "bgcolor": "#E5ECF6",
           "caxis": {
            "gridcolor": "white",
            "linecolor": "white",
            "ticks": ""
           }
          },
          "title": {
           "x": 0.05
          },
          "xaxis": {
           "automargin": true,
           "gridcolor": "white",
           "linecolor": "white",
           "ticks": "",
           "title": {
            "standoff": 15
           },
           "zerolinecolor": "white",
           "zerolinewidth": 2
          },
          "yaxis": {
           "automargin": true,
           "gridcolor": "white",
           "linecolor": "white",
           "ticks": "",
           "title": {
            "standoff": 15
           },
           "zerolinecolor": "white",
           "zerolinewidth": 2
          }
         }
        },
        "title": {
         "text": "График вхождений категорий"
        },
        "xaxis": {
         "anchor": "y",
         "autorange": true,
         "domain": [
          0,
          1
         ],
         "range": [
          -0.5,
          7.5
         ],
         "tickangle": 45,
         "title": {
          "text": "Категории"
         },
         "type": "category"
        },
        "yaxis": {
         "anchor": "x",
         "autorange": true,
         "domain": [
          0,
          1
         ],
         "range": [
          0,
          150.5263157894737
         ],
         "title": {
          "text": "Количество вхождений"
         },
         "type": "linear"
        }
       }
      },
      "image/png": "[encoded data removed]",
      "text/html": [
       "<div>                            <div id=\"0c73173f-1829-4a15-9cae-720c1c3d4d68\" class=\"plotly-graph-div\" style=\"height:525px; width:100%;\"></div>            <script type=\"text/javascript\">                require([\"plotly\"], function(Plotly) {                    window.PLOTLYENV=window.PLOTLYENV || {};                                    if (document.getElementById(\"0c73173f-1829-4a15-9cae-720c1c3d4d68\")) {                    Plotly.newPlot(                        \"0c73173f-1829-4a15-9cae-720c1c3d4d68\",                        [{\"alignmentgroup\":\"True\",\"hovertemplate\":\"color=\\u041e\\u0431\\u0449\\u0435\\u043d\\u0430\\u0443\\u0447\\u043d\\u044b\\u0435 \\u0442\\u0435\\u0440\\u043c\\u0438\\u043d\\u044b\\u003cbr\\u003e\\u041a\\u0430\\u0442\\u0435\\u0433\\u043e\\u0440\\u0438\\u0438=%{x}\\u003cbr\\u003e\\u041a\\u043e\\u043b\\u0438\\u0447\\u0435\\u0441\\u0442\\u0432\\u043e \\u0432\\u0445\\u043e\\u0436\\u0434\\u0435\\u043d\\u0438\\u0439=%{y}\\u003cextra\\u003e\\u003c\\u002fextra\\u003e\",\"legendgroup\":\"\\u041e\\u0431\\u0449\\u0435\\u043d\\u0430\\u0443\\u0447\\u043d\\u044b\\u0435 \\u0442\\u0435\\u0440\\u043c\\u0438\\u043d\\u044b\",\"marker\":{\"color\":\"#636efa\",\"pattern\":{\"shape\":\"\"}},\"name\":\"\\u041e\\u0431\\u0449\\u0435\\u043d\\u0430\\u0443\\u0447\\u043d\\u044b\\u0435 \\u0442\\u0435\\u0440\\u043c\\u0438\\u043d\\u044b\",\"offsetgroup\":\"\\u041e\\u0431\\u0449\\u0435\\u043d\\u0430\\u0443\\u0447\\u043d\\u044b\\u0435 \\u0442\\u0435\\u0440\\u043c\\u0438\\u043d\\u044b\",\"orientation\":\"v\",\"showlegend\":true,\"textposition\":\"auto\",\"x\":[\"\\u041e\\u0431\\u0449\\u0435\\u043d\\u0430\\u0443\\u0447\\u043d\\u044b\\u0435 \\u0442\\u0435\\u0440\\u043c\\u0438\\u043d\\u044b\"],\"xaxis\":\"x\",\"y\":[143],\"yaxis\":\"y\",\"type\":\"bar\"},{\"alignmentgroup\":\"True\",\"hovertemplate\":\"color=\\u0422\\u0435\\u043e\\u0440\\u0438\\u044f \\u0433\\u0440\\u0430\\u0444\\u043e\\u0432\\u003cbr\\u003e\\u041a\\u0430\\u0442\\u0435\\u0433\\u043e\\u0440\\u0438\\u0438=%{x}\\u003cbr\\u003e\\u041a\\u043e\\u043b\\u0438\\u0447\\u0435\\u0441\\u0442\\u0432\\u043e \\u0432\\u0445\\u043e\\u0436\\u0434\\u0435\\u043d\\u0438\\u0439=%{y}\\u003cextra\\u003e\\u003c\\u002fextra\\u003e\",\"legendgroup\":\"\\u0422\\u0435\\u043e\\u0440\\u0438\\u044f \\u0433\\u0440\\u0430\\u0444\\u043e\\u0432\",\"marker\":{\"color\":\"#EF553B\",\"pattern\":{\"shape\":\"\"}},\"name\":\"\\u0422\\u0435\\u043e\\u0440\\u0438\\u044f \\u0433\\u0440\\u0430\\u0444\\u043e\\u0432\",\"offsetgroup\":\"\\u0422\\u0435\\u043e\\u0440\\u0438\\u044f \\u0433\\u0440\\u0430\\u0444\\u043e\\u0432\",\"orientation\":\"v\",\"showlegend\":true,\"textposition\":\"auto\",\"x\":[\"\\u0422\\u0435\\u043e\\u0440\\u0438\\u044f \\u0433\\u0440\\u0430\\u0444\\u043e\\u0432\"],\"xaxis\":\"x\",\"y\":[0],\"yaxis\":\"y\",\"type\":\"bar\"},{\"alignmentgroup\":\"True\",\"hovertemplate\":\"color=\\u0422\\u0435\\u043e\\u0440\\u0438\\u044f \\u0432\\u044b\\u0431\\u043e\\u0440\\u0430 \\u0438 \\u043f\\u0440\\u0438\\u043d\\u044f\\u0442\\u0438\\u044f \\u0440\\u0435\\u0448\\u0435\\u043d\\u0438\\u0439\\u003cbr\\u003e\\u041a\\u0430\\u0442\\u0435\\u0433\\u043e\\u0440\\u0438\\u0438=%{x}\\u003cbr\\u003e\\u041a\\u043e\\u043b\\u0438\\u0447\\u0435\\u0441\\u0442\\u0432\\u043e \\u0432\\u0445\\u043e\\u0436\\u0434\\u0435\\u043d\\u0438\\u0439=%{y}\\u003cextra\\u003e\\u003c\\u002fextra\\u003e\",\"legendgroup\":\"\\u0422\\u0435\\u043e\\u0440\\u0438\\u044f \\u0432\\u044b\\u0431\\u043e\\u0440\\u0430 \\u0438 \\u043f\\u0440\\u0438\\u043d\\u044f\\u0442\\u0438\\u044f \\u0440\\u0435\\u0448\\u0435\\u043d\\u0438\\u0439\",\"marker\":{\"color\":\"#00cc96\",\"pattern\":{\"shape\":\"\"}},\"name\":\"\\u0422\\u0435\\u043e\\u0440\\u0438\\u044f \\u0432\\u044b\\u0431\\u043e\\u0440\\u0430 \\u0438 \\u043f\\u0440\\u0438\\u043d\\u044f\\u0442\\u0438\\u044f \\u0440\\u0435\\u0448\\u0435\\u043d\\u0438\\u0439\",\"offsetgroup\":\"\\u0422\\u0435\\u043e\\u0440\\u0438\\u044f \\u0432\\u044b\\u0431\\u043e\\u0440\\u0430 \\u0438 \\u043f\\u0440\\u0438\\u043d\\u044f\\u0442\\u0438\\u044f \\u0440\\u0435\\u0448\\u0435\\u043d\\u0438\\u0439\",\"orientation\":\"v\",\"showlegend\":true,\"textposition\":\"auto\",\"x\":[\"\\u0422\\u0435\\u043e\\u0440\\u0438\\u044f \\u0432\\u044b\\u0431\\u043e\\u0440\\u0430 \\u0438 \\u043f\\u0440\\u0438\\u043d\\u044f\\u0442\\u0438\\u044f \\u0440\\u0435\\u0448\\u0435\\u043d\\u0438\\u0439\"],\"xaxis\":\"x\",\"y\":[1],\"yaxis\":\"y\",\"type\":\"bar\"},{\"alignmentgroup\":\"True\",\"hovertemplate\":\"color=\\u0422\\u0435\\u043e\\u0440\\u0438\\u044f \\u0432\\u0435\\u0440\\u043e\\u044f\\u0442\\u043d\\u043e\\u0441\\u0442\\u0435\\u0439 \\u0438 \\u043c\\u0430\\u0442\\u0435\\u043c\\u0430\\u0442\\u0438\\u0447\\u0435\\u0441\\u043a\\u0430\\u044f \\u0441\\u0442\\u0430\\u0442\\u0438\\u0441\\u0442\\u0438\\u043a\\u0430\\u003cbr\\u003e\\u041a\\u0430\\u0442\\u0435\\u0433\\u043e\\u0440\\u0438\\u0438=%{x}\\u003cbr\\u003e\\u041a\\u043e\\u043b\\u0438\\u0447\\u0435\\u0441\\u0442\\u0432\\u043e \\u0432\\u0445\\u043e\\u0436\\u0434\\u0435\\u043d\\u0438\\u0439=%{y}\\u003cextra\\u003e\\u003c\\u002fextra\\u003e\",\"legendgroup\":\"\\u0422\\u0435\\u043e\\u0440\\u0438\\u044f \\u0432\\u0435\\u0440\\u043e\\u044f\\u0442\\u043d\\u043e\\u0441\\u0442\\u0435\\u0439 \\u0438 \\u043c\\u0430\\u0442\\u0435\\u043c\\u0430\\u0442\\u0438\\u0447\\u0435\\u0441\\u043a\\u0430\\u044f \\u0441\\u0442\\u0430\\u0442\\u0438\\u0441\\u0442\\u0438\\u043a\\u0430\",\"marker\":{\"color\":\"#ab63fa\",\"pattern\":{\"shape\":\"\"}},\"name\":\"\\u0422\\u0435\\u043e\\u0440\\u0438\\u044f \\u0432\\u0435\\u0440\\u043e\\u044f\\u0442\\u043d\\u043e\\u0441\\u0442\\u0435\\u0439 \\u0438 \\u043c\\u0430\\u0442\\u0435\\u043c\\u0430\\u0442\\u0438\\u0447\\u0435\\u0441\\u043a\\u0430\\u044f \\u0441\\u0442\\u0430\\u0442\\u0438\\u0441\\u0442\\u0438\\u043a\\u0430\",\"offsetgroup\":\"\\u0422\\u0435\\u043e\\u0440\\u0438\\u044f \\u0432\\u0435\\u0440\\u043e\\u044f\\u0442\\u043d\\u043e\\u0441\\u0442\\u0435\\u0439 \\u0438 \\u043c\\u0430\\u0442\\u0435\\u043c\\u0430\\u0442\\u0438\\u0447\\u0435\\u0441\\u043a\\u0430\\u044f \\u0441\\u0442\\u0430\\u0442\\u0438\\u0441\\u0442\\u0438\\u043a\\u0430\",\"orientation\":\"v\",\"showlegend\":true,\"textposition\":\"auto\",\"x\":[\"\\u0422\\u0435\\u043e\\u0440\\u0438\\u044f \\u0432\\u0435\\u0440\\u043e\\u044f\\u0442\\u043d\\u043e\\u0441\\u0442\\u0435\\u0439 \\u0438 \\u043c\\u0430\\u0442\\u0435\\u043c\\u0430\\u0442\\u0438\\u0447\\u0435\\u0441\\u043a\\u0430\\u044f \\u0441\\u0442\\u0430\\u0442\\u0438\\u0441\\u0442\\u0438\\u043a\\u0430\"],\"xaxis\":\"x\",\"y\":[0],\"yaxis\":\"y\",\"type\":\"bar\"},{\"alignmentgroup\":\"True\",\"hovertemplate\":\"color=\\u0412\\u044b\\u0447\\u0438\\u0441\\u043b\\u0438\\u0442\\u0435\\u043b\\u044c\\u043d\\u044b\\u0435 \\u0438 \\u043a\\u043e\\u043c\\u043c\\u0443\\u043d\\u0438\\u043a\\u0430\\u0446\\u0438\\u043e\\u043d\\u043d\\u044b\\u0435 \\u0441\\u0438\\u0441\\u0442\\u0435\\u043c\\u044b \\u0438 \\u0441\\u0435\\u0442\\u0438\\u003cbr\\u003e\\u041a\\u0430\\u0442\\u0435\\u0433\\u043e\\u0440\\u0438\\u0438=%{x}\\u003cbr\\u003e\\u041a\\u043e\\u043b\\u0438\\u0447\\u0435\\u0441\\u0442\\u0432\\u043e \\u0432\\u0445\\u043e\\u0436\\u0434\\u0435\\u043d\\u0438\\u0439=%{y}\\u003cextra\\u003e\\u003c\\u002fextra\\u003e\",\"legendgroup\":\"\\u0412\\u044b\\u0447\\u0438\\u0441\\u043b\\u0438\\u0442\\u0435\\u043b\\u044c\\u043d\\u044b\\u0435 \\u0438 \\u043a\\u043e\\u043c\\u043c\\u0443\\u043d\\u0438\\u043a\\u0430\\u0446\\u0438\\u043e\\u043d\\u043d\\u044b\\u0435 \\u0441\\u0438\\u0441\\u0442\\u0435\\u043c\\u044b \\u0438 \\u0441\\u0435\\u0442\\u0438\",\"marker\":{\"color\":\"#FFA15A\",\"pattern\":{\"shape\":\"\"}},\"name\":\"\\u0412\\u044b\\u0447\\u0438\\u0441\\u043b\\u0438\\u0442\\u0435\\u043b\\u044c\\u043d\\u044b\\u0435 \\u0438 \\u043a\\u043e\\u043c\\u043c\\u0443\\u043d\\u0438\\u043a\\u0430\\u0446\\u0438\\u043e\\u043d\\u043d\\u044b\\u0435 \\u0441\\u0438\\u0441\\u0442\\u0435\\u043c\\u044b \\u0438 \\u0441\\u0435\\u0442\\u0438\",\"offsetgroup\":\"\\u0412\\u044b\\u0447\\u0438\\u0441\\u043b\\u0438\\u0442\\u0435\\u043b\\u044c\\u043d\\u044b\\u0435 \\u0438 \\u043a\\u043e\\u043c\\u043c\\u0443\\u043d\\u0438\\u043a\\u0430\\u0446\\u0438\\u043e\\u043d\\u043d\\u044b\\u0435 \\u0441\\u0438\\u0441\\u0442\\u0435\\u043c\\u044b \\u0438 \\u0441\\u0435\\u0442\\u0438\",\"orientation\":\"v\",\"showlegend\":true,\"textposition\":\"auto\",\"x\":[\"\\u0412\\u044b\\u0447\\u0438\\u0441\\u043b\\u0438\\u0442\\u0435\\u043b\\u044c\\u043d\\u044b\\u0435 \\u0438 \\u043a\\u043e\\u043c\\u043c\\u0443\\u043d\\u0438\\u043a\\u0430\\u0446\\u0438\\u043e\\u043d\\u043d\\u044b\\u0435 \\u0441\\u0438\\u0441\\u0442\\u0435\\u043c\\u044b \\u0438 \\u0441\\u0435\\u0442\\u0438\"],\"xaxis\":\"x\",\"y\":[0],\"yaxis\":\"y\",\"type\":\"bar\"},{\"alignmentgroup\":\"True\",\"hovertemplate\":\"color=\\u041d\\u0430\\u0432\\u0438\\u0433\\u0430\\u0446\\u0438\\u044f \\u0438 \\u0443\\u043f\\u0440\\u0430\\u0432\\u043b\\u0435\\u043d\\u0438\\u0435 \\u0434\\u0432\\u0438\\u0436\\u0435\\u043d\\u0438\\u0435\\u043c\\u003cbr\\u003e\\u041a\\u0430\\u0442\\u0435\\u0433\\u043e\\u0440\\u0438\\u0438=%{x}\\u003cbr\\u003e\\u041a\\u043e\\u043b\\u0438\\u0447\\u0435\\u0441\\u0442\\u0432\\u043e \\u0432\\u0445\\u043e\\u0436\\u0434\\u0435\\u043d\\u0438\\u0439=%{y}\\u003cextra\\u003e\\u003c\\u002fextra\\u003e\",\"legendgroup\":\"\\u041d\\u0430\\u0432\\u0438\\u0433\\u0430\\u0446\\u0438\\u044f \\u0438 \\u0443\\u043f\\u0440\\u0430\\u0432\\u043b\\u0435\\u043d\\u0438\\u0435 \\u0434\\u0432\\u0438\\u0436\\u0435\\u043d\\u0438\\u0435\\u043c\",\"marker\":{\"color\":\"#19d3f3\",\"pattern\":{\"shape\":\"\"}},\"name\":\"\\u041d\\u0430\\u0432\\u0438\\u0433\\u0430\\u0446\\u0438\\u044f \\u0438 \\u0443\\u043f\\u0440\\u0430\\u0432\\u043b\\u0435\\u043d\\u0438\\u0435 \\u0434\\u0432\\u0438\\u0436\\u0435\\u043d\\u0438\\u0435\\u043c\",\"offsetgroup\":\"\\u041d\\u0430\\u0432\\u0438\\u0433\\u0430\\u0446\\u0438\\u044f \\u0438 \\u0443\\u043f\\u0440\\u0430\\u0432\\u043b\\u0435\\u043d\\u0438\\u0435 \\u0434\\u0432\\u0438\\u0436\\u0435\\u043d\\u0438\\u0435\\u043c\",\"orientation\":\"v\",\"showlegend\":true,\"textposition\":\"auto\",\"x\":[\"\\u041d\\u0430\\u0432\\u0438\\u0433\\u0430\\u0446\\u0438\\u044f \\u0438 \\u0443\\u043f\\u0440\\u0430\\u0432\\u043b\\u0435\\u043d\\u0438\\u0435 \\u0434\\u0432\\u0438\\u0436\\u0435\\u043d\\u0438\\u0435\\u043c\"],\"xaxis\":\"x\",\"y\":[0],\"yaxis\":\"y\",\"type\":\"bar\"},{\"alignmentgroup\":\"True\",\"hovertemplate\":\"color=\\u0422\\u0440\\u0430\\u043d\\u0441\\u043f\\u043e\\u0440\\u0442\\u003cbr\\u003e\\u041a\\u0430\\u0442\\u0435\\u0433\\u043e\\u0440\\u0438\\u0438=%{x}\\u003cbr\\u003e\\u041a\\u043e\\u043b\\u0438\\u0447\\u0435\\u0441\\u0442\\u0432\\u043e \\u0432\\u0445\\u043e\\u0436\\u0434\\u0435\\u043d\\u0438\\u0439=%{y}\\u003cextra\\u003e\\u003c\\u002fextra\\u003e\",\"legendgroup\":\"\\u0422\\u0440\\u0430\\u043d\\u0441\\u043f\\u043e\\u0440\\u0442\",\"marker\":{\"color\":\"#FF6692\",\"pattern\":{\"shape\":\"\"}},\"name\":\"\\u0422\\u0440\\u0430\\u043d\\u0441\\u043f\\u043e\\u0440\\u0442\",\"offsetgroup\":\"\\u0422\\u0440\\u0430\\u043d\\u0441\\u043f\\u043e\\u0440\\u0442\",\"orientation\":\"v\",\"showlegend\":true,\"textposition\":\"auto\",\"x\":[\"\\u0422\\u0440\\u0430\\u043d\\u0441\\u043f\\u043e\\u0440\\u0442\"],\"xaxis\":\"x\",\"y\":[0],\"yaxis\":\"y\",\"type\":\"bar\"},{\"alignmentgroup\":\"True\",\"hovertemplate\":\"color=\\u0422\\u0435\\u043e\\u0440\\u0438\\u044f \\u043e\\u043f\\u0442\\u0438\\u043c\\u0438\\u0437\\u0430\\u0446\\u0438\\u0438\\u003cbr\\u003e\\u041a\\u0430\\u0442\\u0435\\u0433\\u043e\\u0440\\u0438\\u0438=%{x}\\u003cbr\\u003e\\u041a\\u043e\\u043b\\u0438\\u0447\\u0435\\u0441\\u0442\\u0432\\u043e \\u0432\\u0445\\u043e\\u0436\\u0434\\u0435\\u043d\\u0438\\u0439=%{y}\\u003cextra\\u003e\\u003c\\u002fextra\\u003e\",\"legendgroup\":\"\\u0422\\u0435\\u043e\\u0440\\u0438\\u044f \\u043e\\u043f\\u0442\\u0438\\u043c\\u0438\\u0437\\u0430\\u0446\\u0438\\u0438\",\"marker\":{\"color\":\"#B6E880\",\"pattern\":{\"shape\":\"\"}},\"name\":\"\\u0422\\u0435\\u043e\\u0440\\u0438\\u044f \\u043e\\u043f\\u0442\\u0438\\u043c\\u0438\\u0437\\u0430\\u0446\\u0438\\u0438\",\"offsetgroup\":\"\\u0422\\u0435\\u043e\\u0440\\u0438\\u044f \\u043e\\u043f\\u0442\\u0438\\u043c\\u0438\\u0437\\u0430\\u0446\\u0438\\u0438\",\"orientation\":\"v\",\"showlegend\":true,\"textposition\":\"auto\",\"x\":[\"\\u0422\\u0435\\u043e\\u0440\\u0438\\u044f \\u043e\\u043f\\u0442\\u0438\\u043c\\u0438\\u0437\\u0430\\u0446\\u0438\\u0438\"],\"xaxis\":\"x\",\"y\":[1],\"yaxis\":\"y\",\"type\":\"bar\"}],                        {\"template\":{\"data\":{\"histogram2dcontour\":[{\"type\":\"histogram2dcontour\",\"colorbar\":{\"outlinewidth\":0,\"ticks\":\"\"},\"colorscale\":[[0.0,\"#0d0887\"],[0.1111111111111111,\"#46039f\"],[0.2222222222222222,\"#7201a8\"],[0.3333333333333333,\"#9c179e\"],[0.4444444444444444,\"#bd3786\"],[0.5555555555555556,\"#d8576b\"],[0.6666666666666666,\"#ed7953\"],[0.7777777777777778,\"#fb9f3a\"],[0.8888888888888888,\"#fdca26\"],[1.0,\"#f0f921\"]]}],\"choropleth\":[{\"type\":\"choropleth\",\"colorbar\":{\"outlinewidth\":0,\"ticks\":\"\"}}],\"histogram2d\":[{\"type\":\"histogram2d\",\"colorbar\":{\"outlinewidth\":0,\"ticks\":\"\"},\"colorscale\":[[0.0,\"#0d0887\"],[0.1111111111111111,\"#46039f\"],[0.2222222222222222,\"#7201a8\"],[0.3333333333333333,\"#9c179e\"],[0.4444444444444444,\"#bd3786\"],[0.5555555555555556,\"#d8576b\"],[0.6666666666666666,\"#ed7953\"],[0.7777777777777778,\"#fb9f3a\"],[0.8888888888888888,\"#fdca26\"],[1.0,\"#f0f921\"]]}],\"heatmap\":[{\"type\":\"heatmap\",\"colorbar\":{\"outlinewidth\":0,\"ticks\":\"\"},\"colorscale\":[[0.0,\"#0d0887\"],[0.1111111111111111,\"#46039f\"],[0.2222222222222222,\"#7201a8\"],[0.3333333333333333,\"#9c179e\"],[0.4444444444444444,\"#bd3786\"],[0.5555555555555556,\"#d8576b\"],[0.6666666666666666,\"#ed7953\"],[0.7777777777777778,\"#fb9f3a\"],[0.8888888888888888,\"#fdca26\"],[1.0,\"#f0f921\"]]}],\"heatmapgl\":[{\"type\":\"heatmapgl\",\"colorbar\":{\"outlinewidth\":0,\"ticks\":\"\"},\"colorscale\":[[0.0,\"#0d0887\"],[0.1111111111111111,\"#46039f\"],[0.2222222222222222,\"#7201a8\"],[0.3333333333333333,\"#9c179e\"],[0.4444444444444444,\"#bd3786\"],[0.5555555555555556,\"#d8576b\"],[0.6666666666666666,\"#ed7953\"],[0.7777777777777778,\"#fb9f3a\"],[0.8888888888888888,\"#fdca26\"],[1.0,\"#f0f921\"]]}],\"contourcarpet\":[{\"type\":\"contourcarpet\",\"colorbar\":{\"outlinewidth\":0,\"ticks\":\"\"}}],\"contour\":[{\"type\":\"contour\",\"colorbar\":{\"outlinewidth\":0,\"ticks\":\"\"},\"colorscale\":[[0.0,\"#0d0887\"],[0.1111111111111111,\"#46039f\"],[0.2222222222222222,\"#7201a8\"],[0.3333333333333333,\"#9c179e\"],[0.4444444444444444,\"#bd3786\"],[0.5555555555555556,\"#d8576b\"],[0.6666666666666666,\"#ed7953\"],[0.7777777777777778,\"#fb9f3a\"],[0.8888888888888888,\"#fdca26\"],[1.0,\"#f0f921\"]]}],\"surface\":[{\"type\":\"surface\",\"colorbar\":{\"outlinewidth\":0,\"ticks\":\"\"},\"colorscale\":[[0.0,\"#0d0887\"],[0.1111111111111111,\"#46039f\"],[0.2222222222222222,\"#7201a8\"],[0.3333333333333333,\"#9c179e\"],[0.4444444444444444,\"#bd3786\"],[0.5555555555555556,\"#d8576b\"],[0.6666666666666666,\"#ed7953\"],[0.7777777777777778,\"#fb9f3a\"],[0.8888888888888888,\"#fdca26\"],[1.0,\"#f0f921\"]]}],\"mesh3d\":[{\"type\":\"mesh3d\",\"colorbar\":{\"outlinewidth\":0,\"ticks\":\"\"}}],\"scatter\":[{\"fillpattern\":{\"fillmode\":\"overlay\",\"size\":10,\"solidity\":0.2},\"type\":\"scatter\"}],\"parcoords\":[{\"type\":\"parcoords\",\"line\":{\"colorbar\":{\"outlinewidth\":0,\"ticks\":\"\"}}}],\"scatterpolargl\":[{\"type\":\"scatterpolargl\",\"marker\":{\"colorbar\":{\"outlinewidth\":0,\"ticks\":\"\"}}}],\"bar\":[{\"error_x\":{\"color\":\"#2a3f5f\"},\"error_y\":{\"color\":\"#2a3f5f\"},\"marker\":{\"line\":{\"color\":\"#E5ECF6\",\"width\":0.5},\"pattern\":{\"fillmode\":\"overlay\",\"size\":10,\"solidity\":0.2}},\"type\":\"bar\"}],\"scattergeo\":[{\"type\":\"scattergeo\",\"marker\":{\"colorbar\":{\"outlinewidth\":0,\"ticks\":\"\"}}}],\"scatterpolar\":[{\"type\":\"scatterpolar\",\"marker\":{\"colorbar\":{\"outlinewidth\":0,\"ticks\":\"\"}}}],\"histogram\":[{\"marker\":{\"pattern\":{\"fillmode\":\"overlay\",\"size\":10,\"solidity\":0.2}},\"type\":\"histogram\"}],\"scattergl\":[{\"type\":\"scattergl\",\"marker\":{\"colorbar\":{\"outlinewidth\":0,\"ticks\":\"\"}}}],\"scatter3d\":[{\"type\":\"scatter3d\",\"line\":{\"colorbar\":{\"outlinewidth\":0,\"ticks\":\"\"}},\"marker\":{\"colorbar\":{\"outlinewidth\":0,\"ticks\":\"\"}}}],\"scattermapbox\":[{\"type\":\"scattermapbox\",\"marker\":{\"colorbar\":{\"outlinewidth\":0,\"ticks\":\"\"}}}],\"scatterternary\":[{\"type\":\"scatterternary\",\"marker\":{\"colorbar\":{\"outlinewidth\":0,\"ticks\":\"\"}}}],\"scattercarpet\":[{\"type\":\"scattercarpet\",\"marker\":{\"colorbar\":{\"outlinewidth\":0,\"ticks\":\"\"}}}],\"carpet\":[{\"aaxis\":{\"endlinecolor\":\"#2a3f5f\",\"gridcolor\":\"white\",\"linecolor\":\"white\",\"minorgridcolor\":\"white\",\"startlinecolor\":\"#2a3f5f\"},\"baxis\":{\"endlinecolor\":\"#2a3f5f\",\"gridcolor\":\"white\",\"linecolor\":\"white\",\"minorgridcolor\":\"white\",\"startlinecolor\":\"#2a3f5f\"},\"type\":\"carpet\"}],\"table\":[{\"cells\":{\"fill\":{\"color\":\"#EBF0F8\"},\"line\":{\"color\":\"white\"}},\"header\":{\"fill\":{\"color\":\"#C8D4E3\"},\"line\":{\"color\":\"white\"}},\"type\":\"table\"}],\"barpolar\":[{\"marker\":{\"line\":{\"color\":\"#E5ECF6\",\"width\":0.5},\"pattern\":{\"fillmode\":\"overlay\",\"size\":10,\"solidity\":0.2}},\"type\":\"barpolar\"}],\"pie\":[{\"automargin\":true,\"type\":\"pie\"}]},\"layout\":{\"autotypenumbers\":\"strict\",\"colorway\":[\"#636efa\",\"#EF553B\",\"#00cc96\",\"#ab63fa\",\"#FFA15A\",\"#19d3f3\",\"#FF6692\",\"#B6E880\",\"#FF97FF\",\"#FECB52\"],\"font\":{\"color\":\"#2a3f5f\"},\"hovermode\":\"closest\",\"hoverlabel\":{\"align\":\"left\"},\"paper_bgcolor\":\"white\",\"plot_bgcolor\":\"#E5ECF6\",\"polar\":{\"bgcolor\":\"#E5ECF6\",\"angularaxis\":{\"gridcolor\":\"white\",\"linecolor\":\"white\",\"ticks\":\"\"},\"radialaxis\":{\"gridcolor\":\"white\",\"linecolor\":\"white\",\"ticks\":\"\"}},\"ternary\":{\"bgcolor\":\"#E5ECF6\",\"aaxis\":{\"gridcolor\":\"white\",\"linecolor\":\"white\",\"ticks\":\"\"},\"baxis\":{\"gridcolor\":\"white\",\"linecolor\":\"white\",\"ticks\":\"\"},\"caxis\":{\"gridcolor\":\"white\",\"linecolor\":\"white\",\"ticks\":\"\"}},\"coloraxis\":{\"colorbar\":{\"outlinewidth\":0,\"ticks\":\"\"}},\"colorscale\":{\"sequential\":[[0.0,\"#0d0887\"],[0.1111111111111111,\"#46039f\"],[0.2222222222222222,\"#7201a8\"],[0.3333333333333333,\"#9c179e\"],[0.4444444444444444,\"#bd3786\"],[0.5555555555555556,\"#d8576b\"],[0.6666666666666666,\"#ed7953\"],[0.7777777777777778,\"#fb9f3a\"],[0.8888888888888888,\"#fdca26\"],[1.0,\"#f0f921\"]],\"sequentialminus\":[[0.0,\"#0d0887\"],[0.1111111111111111,\"#46039f\"],[0.2222222222222222,\"#7201a8\"],[0.3333333333333333,\"#9c179e\"],[0.4444444444444444,\"#bd3786\"],[0.5555555555555556,\"#d8576b\"],[0.6666666666666666,\"#ed7953\"],[0.7777777777777778,\"#fb9f3a\"],[0.8888888888888888,\"#fdca26\"],[1.0,\"#f0f921\"]],\"diverging\":[[0,\"#8e0152\"],[0.1,\"#c51b7d\"],[0.2,\"#de77ae\"],[0.3,\"#f1b6da\"],[0.4,\"#fde0ef\"],[0.5,\"#f7f7f7\"],[0.6,\"#e6f5d0\"],[0.7,\"#b8e186\"],[0.8,\"#7fbc41\"],[0.9,\"#4d9221\"],[1,\"#276419\"]]},\"xaxis\":{\"gridcolor\":\"white\",\"linecolor\":\"white\",\"ticks\":\"\",\"title\":{\"standoff\":15},\"zerolinecolor\":\"white\",\"automargin\":true,\"zerolinewidth\":2},\"yaxis\":{\"gridcolor\":\"white\",\"linecolor\":\"white\",\"ticks\":\"\",\"title\":{\"standoff\":15},\"zerolinecolor\":\"white\",\"automargin\":true,\"zerolinewidth\":2},\"scene\":{\"xaxis\":{\"backgroundcolor\":\"#E5ECF6\",\"gridcolor\":\"white\",\"linecolor\":\"white\",\"showbackground\":true,\"ticks\":\"\",\"zerolinecolor\":\"white\",\"gridwidth\":2},\"yaxis\":{\"backgroundcolor\":\"#E5ECF6\",\"gridcolor\":\"white\",\"linecolor\":\"white\",\"showbackground\":true,\"ticks\":\"\",\"zerolinecolor\":\"white\",\"gridwidth\":2},\"zaxis\":{\"backgroundcolor\":\"#E5ECF6\",\"gridcolor\":\"white\",\"linecolor\":\"white\",\"showbackground\":true,\"ticks\":\"\",\"zerolinecolor\":\"white\",\"gridwidth\":2}},\"shapedefaults\":{\"line\":{\"color\":\"#2a3f5f\"}},\"annotationdefaults\":{\"arrowcolor\":\"#2a3f5f\",\"arrowhead\":0,\"arrowwidth\":1},\"geo\":{\"bgcolor\":\"white\",\"landcolor\":\"#E5ECF6\",\"subunitcolor\":\"white\",\"showland\":true,\"showlakes\":true,\"lakecolor\":\"white\"},\"title\":{\"x\":0.05},\"mapbox\":{\"style\":\"light\"}}},\"xaxis\":{\"anchor\":\"y\",\"domain\":[0.0,1.0],\"title\":{\"text\":\"\\u041a\\u0430\\u0442\\u0435\\u0433\\u043e\\u0440\\u0438\\u0438\"},\"tickangle\":45},\"yaxis\":{\"anchor\":\"x\",\"domain\":[0.0,1.0],\"title\":{\"text\":\"\\u041a\\u043e\\u043b\\u0438\\u0447\\u0435\\u0441\\u0442\\u0432\\u043e \\u0432\\u0445\\u043e\\u0436\\u0434\\u0435\\u043d\\u0438\\u0439\"}},\"legend\":{\"title\":{\"text\":\"color\"},\"tracegroupgap\":0},\"title\":{\"text\":\"\\u0413\\u0440\\u0430\\u0444\\u0438\\u043a \\u0432\\u0445\\u043e\\u0436\\u0434\\u0435\\u043d\\u0438\\u0439 \\u043a\\u0430\\u0442\\u0435\\u0433\\u043e\\u0440\\u0438\\u0439\"},\"barmode\":\"relative\"},                        {\"responsive\": true}                    ).then(function(){\n",
       "                            \n",
       "var gd = document.getElementById('0c73173f-1829-4a15-9cae-720c1c3d4d68');\n",
       "var x = new MutationObserver(function (mutations, observer) {{\n",
       "        var display = window.getComputedStyle(gd).display;\n",
       "        if (!display || display === 'none') {{\n",
       "            console.log([gd, 'removed!']);\n",
       "            Plotly.purge(gd);\n",
       "            observer.disconnect();\n",
       "        }}\n",
       "}});\n",
       "\n",
       "// Listen for the removal of the full notebook cells\n",
       "var notebookContainer = gd.closest('#notebook-container');\n",
       "if (notebookContainer) {{\n",
       "    x.observe(notebookContainer, {childList: true});\n",
       "}}\n",
       "\n",
       "// Listen for the clearing of the current output cell\n",
       "var outputEl = gd.closest('.output');\n",
       "if (outputEl) {{\n",
       "    x.observe(outputEl, {childList: true});\n",
       "}}\n",
       "\n",
       "                        })                };                });            </script>        </div>"
      ]
     },
     "metadata": {},
     "output_type": "display_data"
    }
   ],
   "source": [
    "import plotly.express as px\n",
    "\n",
    "# Создайте список с названиями категорий и соответствующими количествами\n",
    "categories = list(unik_path.keys())\n",
    "counts = list(unik_path.values())\n",
    "\n",
    "# Создайте фигуру с помощью Plotly Express, используя параметр 'color'\n",
    "fig = px.bar(\n",
    "    x=categories,\n",
    "    y=counts,\n",
    "    labels={'x': 'Категории', 'y': 'Количество вхождений'},\n",
    "    title='График вхождений категорий',\n",
    "    color=categories,  # Указываем категории как параметр цвета\n",
    "    hover_data=[]\n",
    ")\n",
    "\n",
    "# Добавьте подписи к столбцам\n",
    "fig.update_xaxes(tickangle=45)\n",
    "\n",
    "# Отобразите график\n",
    "fig.show()\n"
   ]
  },
  {
   "cell_type": "code",
   "execution_count": null,
   "id": "8218bd37-cc59-4fd0-8d2b-da787c184578",
   "metadata": {},
   "outputs": [],
   "source": []
  },
  {
   "cell_type": "code",
   "execution_count": null,
   "id": "f236a07d-afe4-4c88-9ace-1191d61454d0",
   "metadata": {},
   "outputs": [],
   "source": []
  },
  {
   "cell_type": "code",
   "execution_count": null,
   "id": "9e089c2d-d454-4687-a73b-b9b6ce26da5c",
   "metadata": {},
   "outputs": [],
   "source": []
  },
  {
   "cell_type": "code",
   "execution_count": null,
   "id": "f5fdbabd-91ef-4091-aa21-28dc4e7da90e",
   "metadata": {},
   "outputs": [],
   "source": []
  },
  {
   "cell_type": "code",
   "execution_count": 21,
   "id": "3ae720dd-f53c-4ef8-ac83-5de112d4e2cc",
   "metadata": {},
   "outputs": [],
   "source": [
    "g_ultimate_term_json = json.load(open('./terms.json', 'r'))\n",
    "g_term_to_words = {int(i): g_ultimate_term_json['term_to_words'][i] for i in g_ultimate_term_json['term_to_words']}\n",
    "g_term_to_lemmas = {int(i): g_ultimate_term_json['term_to_lemma'][i] for i in g_ultimate_term_json['term_to_lemma']}\n",
    "g_thesaurus = g_ultimate_term_json['thesaurus']"
   ]
  },
  {
   "cell_type": "code",
   "execution_count": 15,
   "id": "1b765cd3-9445-4168-ad62-d216c58318d3",
   "metadata": {},
   "outputs": [
    {
     "data": {
      "text/plain": [
       "([262, 263, 264, 265, 266, 267, 268, 269, 270, 271, 272],\n",
       " ['представления', 'групп', 'Ли'],\n",
       " ['представление', 'группа', 'ли'])"
      ]
     },
     "execution_count": 15,
     "metadata": {},
     "output_type": "execute_result"
    }
   ],
   "source": [
    "# Пример использования:\n",
    "g_thesaurus['children']['Математический аппарат']['children']['Алгебра и теория чисел']['children']['Алгебраическая геометрия']['terms'], g_term_to_words[238], g_term_to_lemmas[238]"
   ]
  },
  {
   "cell_type": "code",
   "execution_count": 16,
   "id": "5598f0cc-5ad0-447a-8b30-5c911ba7199e",
   "metadata": {},
   "outputs": [],
   "source": [
    "def get_term_words(a_term: int) -> str:\n",
    "    res = ''\n",
    "    words = g_term_to_words[a_term]\n",
    "    for word in words:\n",
    "        res += word + ' ' \n",
    "    return res.strip()"
   ]
  },
  {
   "cell_type": "code",
   "execution_count": 17,
   "id": "b8641eb3-27cb-4b8d-8d41-b8e5d04e6d4b",
   "metadata": {
    "scrolled": true
   },
   "outputs": [
    {
     "data": {
      "text/html": [
       "<div>\n",
       "<style scoped>\n",
       "    .dataframe tbody tr th:only-of-type {\n",
       "        vertical-align: middle;\n",
       "    }\n",
       "\n",
       "    .dataframe tbody tr th {\n",
       "        vertical-align: top;\n",
       "    }\n",
       "\n",
       "    .dataframe thead th {\n",
       "        text-align: right;\n",
       "    }\n",
       "</style>\n",
       "<table border=\"1\" class=\"dataframe\">\n",
       "  <thead>\n",
       "    <tr style=\"text-align: right;\">\n",
       "      <th></th>\n",
       "      <th>reference</th>\n",
       "      <th>year</th>\n",
       "      <th>kind</th>\n",
       "      <th>Unnamed: 5</th>\n",
       "      <th>Авторы</th>\n",
       "      <th>Год издания</th>\n",
       "      <th>Название</th>\n",
       "      <th>Наименование источника</th>\n",
       "      <th>DOI</th>\n",
       "      <th>ISBN/ISSN</th>\n",
       "      <th>Город</th>\n",
       "      <th>Наименование конференции</th>\n",
       "      <th>Обозначение и номер тома</th>\n",
       "      <th>Объём, стр.</th>\n",
       "      <th>Публикация имеет версию на другом языке или вышла в другом издании, например, в электронной (или онлайн) версии журнала</th>\n",
       "      <th>Сведения об издании</th>\n",
       "      <th>Связь с публикацией</th>\n",
       "      <th>Страницы</th>\n",
       "      <th>Электронная публикация</th>\n",
       "    </tr>\n",
       "    <tr>\n",
       "      <th>ID</th>\n",
       "      <th></th>\n",
       "      <th></th>\n",
       "      <th></th>\n",
       "      <th></th>\n",
       "      <th></th>\n",
       "      <th></th>\n",
       "      <th></th>\n",
       "      <th></th>\n",
       "      <th></th>\n",
       "      <th></th>\n",
       "      <th></th>\n",
       "      <th></th>\n",
       "      <th></th>\n",
       "      <th></th>\n",
       "      <th></th>\n",
       "      <th></th>\n",
       "      <th></th>\n",
       "      <th></th>\n",
       "      <th></th>\n",
       "    </tr>\n",
       "  </thead>\n",
       "  <tbody>\n",
       "    <tr>\n",
       "      <th>844</th>\n",
       "      <td>Корсун В.Ф., Тертышный Г.Г. Методы и средства ...</td>\n",
       "      <td>2005</td>\n",
       "      <td>Доклад</td>\n",
       "      <td>Рассматриваются методы и средства волнового фи...</td>\n",
       "      <td>10493, 717</td>\n",
       "      <td>2005</td>\n",
       "      <td>Методы и средства волнового фитоуправления в б...</td>\n",
       "      <td>NaN</td>\n",
       "      <td>NaN</td>\n",
       "      <td>NaN</td>\n",
       "      <td>-</td>\n",
       "      <td>Управление и информационные технологии</td>\n",
       "      <td>NaN</td>\n",
       "      <td>NaN</td>\n",
       "      <td>NaN</td>\n",
       "      <td>NaN</td>\n",
       "      <td>NaN</td>\n",
       "      <td>-</td>\n",
       "      <td>NaN</td>\n",
       "    </tr>\n",
       "    <tr>\n",
       "      <th>845</th>\n",
       "      <td>Солонин М.С., Уткин В.А. Метод динамической ко...</td>\n",
       "      <td>2005</td>\n",
       "      <td>Доклад</td>\n",
       "      <td>В докладе рассматривается задача стабилизации ...</td>\n",
       "      <td>10595, 751</td>\n",
       "      <td>2005</td>\n",
       "      <td>Метод динамической компенсации в задаче оценив...</td>\n",
       "      <td>NaN</td>\n",
       "      <td>NaN</td>\n",
       "      <td>NaN</td>\n",
       "      <td>-</td>\n",
       "      <td>Управление и информационные технологии</td>\n",
       "      <td>NaN</td>\n",
       "      <td>NaN</td>\n",
       "      <td>NaN</td>\n",
       "      <td>NaN</td>\n",
       "      <td>NaN</td>\n",
       "      <td>-</td>\n",
       "      <td>NaN</td>\n",
       "    </tr>\n",
       "    <tr>\n",
       "      <th>846</th>\n",
       "      <td>Краснова С.А., Кузнецов С.И., Уткин А.В. Управ...</td>\n",
       "      <td>2005</td>\n",
       "      <td>Доклад</td>\n",
       "      <td>Рассматривается задача управления угловым поло...</td>\n",
       "      <td>383, 10594, 750</td>\n",
       "      <td>2005</td>\n",
       "      <td>Управление электромеханическими системами в ус...</td>\n",
       "      <td>NaN</td>\n",
       "      <td>NaN</td>\n",
       "      <td>NaN</td>\n",
       "      <td>-</td>\n",
       "      <td>Управление и информационные технологии</td>\n",
       "      <td>NaN</td>\n",
       "      <td>NaN</td>\n",
       "      <td>NaN</td>\n",
       "      <td>NaN</td>\n",
       "      <td>NaN</td>\n",
       "      <td>-</td>\n",
       "      <td>NaN</td>\n",
       "    </tr>\n",
       "    <tr>\n",
       "      <th>847</th>\n",
       "      <td>Rivera Domínguez J., Лукьянов А.Г., Castillo T...</td>\n",
       "      <td>2005</td>\n",
       "      <td>Доклад</td>\n",
       "      <td>The paper focuses on the design of an error fe...</td>\n",
       "      <td>10596, 10590, 10597, 751</td>\n",
       "      <td>2005</td>\n",
       "      <td>VSS Error Feedback Regulation for Linear Systems</td>\n",
       "      <td>NaN</td>\n",
       "      <td>NaN</td>\n",
       "      <td>NaN</td>\n",
       "      <td>-</td>\n",
       "      <td>IFAC World Congresses</td>\n",
       "      <td>NaN</td>\n",
       "      <td>NaN</td>\n",
       "      <td>NaN</td>\n",
       "      <td>NaN</td>\n",
       "      <td>NaN</td>\n",
       "      <td>-</td>\n",
       "      <td>NaN</td>\n",
       "    </tr>\n",
       "    <tr>\n",
       "      <th>848</th>\n",
       "      <td>Кузнецов С.И., Сиротина Т.Г., Уткин В.А. Задач...</td>\n",
       "      <td>2005</td>\n",
       "      <td>Тезисы доклада</td>\n",
       "      <td>Предложена декомпозиционная процедура синтеза ...</td>\n",
       "      <td>10594, 664, 751</td>\n",
       "      <td>2005</td>\n",
       "      <td>Задача стабилизации линейных систем с сигмоида...</td>\n",
       "      <td>NaN</td>\n",
       "      <td>NaN</td>\n",
       "      <td>NaN</td>\n",
       "      <td>-</td>\n",
       "      <td>Системы управления эволюцией организации</td>\n",
       "      <td>NaN</td>\n",
       "      <td>NaN</td>\n",
       "      <td>NaN</td>\n",
       "      <td>NaN</td>\n",
       "      <td>NaN</td>\n",
       "      <td>-</td>\n",
       "      <td>NaN</td>\n",
       "    </tr>\n",
       "    <tr>\n",
       "      <th>...</th>\n",
       "      <td>...</td>\n",
       "      <td>...</td>\n",
       "      <td>...</td>\n",
       "      <td>...</td>\n",
       "      <td>...</td>\n",
       "      <td>...</td>\n",
       "      <td>...</td>\n",
       "      <td>...</td>\n",
       "      <td>...</td>\n",
       "      <td>...</td>\n",
       "      <td>...</td>\n",
       "      <td>...</td>\n",
       "      <td>...</td>\n",
       "      <td>...</td>\n",
       "      <td>...</td>\n",
       "      <td>...</td>\n",
       "      <td>...</td>\n",
       "      <td>...</td>\n",
       "      <td>...</td>\n",
       "    </tr>\n",
       "    <tr>\n",
       "      <th>72933</th>\n",
       "      <td>Широкий А.А., Калашников А.О. Influence of the...</td>\n",
       "      <td>2023</td>\n",
       "      <td>Статья в журнале/сборнике</td>\n",
       "      <td>This paper is devoted to studying the influenc...</td>\n",
       "      <td>47161, 9742</td>\n",
       "      <td>2023</td>\n",
       "      <td>Influence of the Internal Structure on the Int...</td>\n",
       "      <td>Mathematics</td>\n",
       "      <td>10.3390/math11040998</td>\n",
       "      <td>2227-7390</td>\n",
       "      <td>Basel, Switzerland</td>\n",
       "      <td>NaN</td>\n",
       "      <td>Т. 11, вып. 4</td>\n",
       "      <td>NaN</td>\n",
       "      <td>NaN</td>\n",
       "      <td>NaN</td>\n",
       "      <td>NaN</td>\n",
       "      <td>https://www.mdpi.com/2227-7390/11/4/998</td>\n",
       "      <td>Да</td>\n",
       "    </tr>\n",
       "    <tr>\n",
       "      <th>72940</th>\n",
       "      <td>Воеводин А.В., Корняков А.А., Петров А.С., Пет...</td>\n",
       "      <td>2021</td>\n",
       "      <td>Статья в журнале/сборнике</td>\n",
       "      <td>A problem of the flow around a rectangular win...</td>\n",
       "      <td>72903, 72906, 72904, 70957, 72905</td>\n",
       "      <td>2021</td>\n",
       "      <td>Wing buffet control by using an ejector-type d...</td>\n",
       "      <td>Journal of Applied Mechanics and Technical Phy...</td>\n",
       "      <td>10.1134/S0021894421020152</td>\n",
       "      <td>0021-8944</td>\n",
       "      <td>Zhukovsky</td>\n",
       "      <td>NaN</td>\n",
       "      <td>Т. 62, №2</td>\n",
       "      <td>NaN</td>\n",
       "      <td>Да</td>\n",
       "      <td>NaN</td>\n",
       "      <td>&lt;a href=\"/node/72910\"&gt;72910&lt;/a&gt;</td>\n",
       "      <td>308–316</td>\n",
       "      <td>NaN</td>\n",
       "    </tr>\n",
       "    <tr>\n",
       "      <th>72941</th>\n",
       "      <td>Жарко Е.Ф., Чернышев К.Р. Digital Twins: Forec...</td>\n",
       "      <td>2023</td>\n",
       "      <td>Доклад</td>\n",
       "      <td>Industries, especially in the energy sector, a...</td>\n",
       "      <td>256, 794</td>\n",
       "      <td>2023</td>\n",
       "      <td>Digital Twins: Forecasting and Formation of Op...</td>\n",
       "      <td>Proceedings of the 2023 International Russian ...</td>\n",
       "      <td>10.1109/SmartIndustryCon57312.2023.10110766</td>\n",
       "      <td>978-1-6654-6429-1</td>\n",
       "      <td>Piscataway</td>\n",
       "      <td>2023 International Russian Smart Industry Conf...</td>\n",
       "      <td>NaN</td>\n",
       "      <td>NaN</td>\n",
       "      <td>NaN</td>\n",
       "      <td>NaN</td>\n",
       "      <td>NaN</td>\n",
       "      <td>158-163, https://ieeexplore.ieee.org/document/...</td>\n",
       "      <td>Да</td>\n",
       "    </tr>\n",
       "    <tr>\n",
       "      <th>72952</th>\n",
       "      <td>Девятков Т.В., Девятков В.В., Габалин А.В. При...</td>\n",
       "      <td>2023</td>\n",
       "      <td>Статья в журнале/сборнике</td>\n",
       "      <td>В  статье анализируются вопросы применения ими...</td>\n",
       "      <td>26687, 15276, 166</td>\n",
       "      <td>2023</td>\n",
       "      <td>Применение имитационного моделирования при опе...</td>\n",
       "      <td>Проблемы информатики</td>\n",
       "      <td>10.37791/2687-0649-2023-18-2</td>\n",
       "      <td>N 2687-0649</td>\n",
       "      <td>Москва</td>\n",
       "      <td>NaN</td>\n",
       "      <td>Том 18. №2. 2023</td>\n",
       "      <td>NaN</td>\n",
       "      <td>NaN</td>\n",
       "      <td>NaN</td>\n",
       "      <td>NaN</td>\n",
       "      <td>60-72</td>\n",
       "      <td>NaN</td>\n",
       "    </tr>\n",
       "    <tr>\n",
       "      <th>72953</th>\n",
       "      <td>Кулида Е.Л., Лебедев В.Г. Методы решения задач...</td>\n",
       "      <td>2023</td>\n",
       "      <td>Статья в журнале/сборнике</td>\n",
       "      <td>Рассмотрены задачи повышения безопасности и эф...</td>\n",
       "      <td>412, 437</td>\n",
       "      <td>2023</td>\n",
       "      <td>Методы решения задач планирования и регулирова...</td>\n",
       "      <td>Проблемы управления</td>\n",
       "      <td>10.25728/pu.2023.2.1</td>\n",
       "      <td>NaN</td>\n",
       "      <td>Москва</td>\n",
       "      <td>NaN</td>\n",
       "      <td>№ 2</td>\n",
       "      <td>NaN</td>\n",
       "      <td>NaN</td>\n",
       "      <td>NaN</td>\n",
       "      <td>NaN</td>\n",
       "      <td>3-18</td>\n",
       "      <td>NaN</td>\n",
       "    </tr>\n",
       "  </tbody>\n",
       "</table>\n",
       "<p>28128 rows × 19 columns</p>\n",
       "</div>"
      ],
      "text/plain": [
       "                                               reference  year  \\\n",
       "ID                                                               \n",
       "844    Корсун В.Ф., Тертышный Г.Г. Методы и средства ...  2005   \n",
       "845    Солонин М.С., Уткин В.А. Метод динамической ко...  2005   \n",
       "846    Краснова С.А., Кузнецов С.И., Уткин А.В. Управ...  2005   \n",
       "847    Rivera Domínguez J., Лукьянов А.Г., Castillo T...  2005   \n",
       "848    Кузнецов С.И., Сиротина Т.Г., Уткин В.А. Задач...  2005   \n",
       "...                                                  ...   ...   \n",
       "72933  Широкий А.А., Калашников А.О. Influence of the...  2023   \n",
       "72940  Воеводин А.В., Корняков А.А., Петров А.С., Пет...  2021   \n",
       "72941  Жарко Е.Ф., Чернышев К.Р. Digital Twins: Forec...  2023   \n",
       "72952  Девятков Т.В., Девятков В.В., Габалин А.В. При...  2023   \n",
       "72953  Кулида Е.Л., Лебедев В.Г. Методы решения задач...  2023   \n",
       "\n",
       "                            kind  \\\n",
       "ID                                 \n",
       "844                       Доклад   \n",
       "845                       Доклад   \n",
       "846                       Доклад   \n",
       "847                       Доклад   \n",
       "848               Тезисы доклада   \n",
       "...                          ...   \n",
       "72933  Статья в журнале/сборнике   \n",
       "72940  Статья в журнале/сборнике   \n",
       "72941                     Доклад   \n",
       "72952  Статья в журнале/сборнике   \n",
       "72953  Статья в журнале/сборнике   \n",
       "\n",
       "                                              Unnamed: 5  \\\n",
       "ID                                                         \n",
       "844    Рассматриваются методы и средства волнового фи...   \n",
       "845    В докладе рассматривается задача стабилизации ...   \n",
       "846    Рассматривается задача управления угловым поло...   \n",
       "847    The paper focuses on the design of an error fe...   \n",
       "848    Предложена декомпозиционная процедура синтеза ...   \n",
       "...                                                  ...   \n",
       "72933  This paper is devoted to studying the influenc...   \n",
       "72940  A problem of the flow around a rectangular win...   \n",
       "72941  Industries, especially in the energy sector, a...   \n",
       "72952  В  статье анализируются вопросы применения ими...   \n",
       "72953  Рассмотрены задачи повышения безопасности и эф...   \n",
       "\n",
       "                                  Авторы  Год издания  \\\n",
       "ID                                                      \n",
       "844                           10493, 717         2005   \n",
       "845                           10595, 751         2005   \n",
       "846                      383, 10594, 750         2005   \n",
       "847             10596, 10590, 10597, 751         2005   \n",
       "848                      10594, 664, 751         2005   \n",
       "...                                  ...          ...   \n",
       "72933                        47161, 9742         2023   \n",
       "72940  72903, 72906, 72904, 70957, 72905         2021   \n",
       "72941                           256, 794         2023   \n",
       "72952                  26687, 15276, 166         2023   \n",
       "72953                           412, 437         2023   \n",
       "\n",
       "                                                Название  \\\n",
       "ID                                                         \n",
       "844    Методы и средства волнового фитоуправления в б...   \n",
       "845    Метод динамической компенсации в задаче оценив...   \n",
       "846    Управление электромеханическими системами в ус...   \n",
       "847     VSS Error Feedback Regulation for Linear Systems   \n",
       "848    Задача стабилизации линейных систем с сигмоида...   \n",
       "...                                                  ...   \n",
       "72933  Influence of the Internal Structure on the Int...   \n",
       "72940  Wing buffet control by using an ejector-type d...   \n",
       "72941  Digital Twins: Forecasting and Formation of Op...   \n",
       "72952  Применение имитационного моделирования при опе...   \n",
       "72953  Методы решения задач планирования и регулирова...   \n",
       "\n",
       "                                  Наименование источника  \\\n",
       "ID                                                         \n",
       "844                                                  NaN   \n",
       "845                                                  NaN   \n",
       "846                                                  NaN   \n",
       "847                                                  NaN   \n",
       "848                                                  NaN   \n",
       "...                                                  ...   \n",
       "72933                                        Mathematics   \n",
       "72940  Journal of Applied Mechanics and Technical Phy...   \n",
       "72941  Proceedings of the 2023 International Russian ...   \n",
       "72952                               Проблемы информатики   \n",
       "72953                                Проблемы управления   \n",
       "\n",
       "                                               DOI          ISBN/ISSN  \\\n",
       "ID                                                                      \n",
       "844                                            NaN                NaN   \n",
       "845                                            NaN                NaN   \n",
       "846                                            NaN                NaN   \n",
       "847                                            NaN                NaN   \n",
       "848                                            NaN                NaN   \n",
       "...                                            ...                ...   \n",
       "72933                         10.3390/math11040998          2227-7390   \n",
       "72940                    10.1134/S0021894421020152          0021-8944   \n",
       "72941  10.1109/SmartIndustryCon57312.2023.10110766  978-1-6654-6429-1   \n",
       "72952                 10.37791/2687-0649-2023-18-2        N 2687-0649   \n",
       "72953                         10.25728/pu.2023.2.1                NaN   \n",
       "\n",
       "                    Город                           Наименование конференции  \\\n",
       "ID                                                                             \n",
       "844                     -             Управление и информационные технологии   \n",
       "845                     -             Управление и информационные технологии   \n",
       "846                     -             Управление и информационные технологии   \n",
       "847                     -                              IFAC World Congresses   \n",
       "848                     -           Системы управления эволюцией организации   \n",
       "...                   ...                                                ...   \n",
       "72933  Basel, Switzerland                                                NaN   \n",
       "72940           Zhukovsky                                                NaN   \n",
       "72941          Piscataway  2023 International Russian Smart Industry Conf...   \n",
       "72952              Москва                                                NaN   \n",
       "72953              Москва                                                NaN   \n",
       "\n",
       "      Обозначение и номер тома  Объём, стр.  \\\n",
       "ID                                            \n",
       "844                        NaN          NaN   \n",
       "845                        NaN          NaN   \n",
       "846                        NaN          NaN   \n",
       "847                        NaN          NaN   \n",
       "848                        NaN          NaN   \n",
       "...                        ...          ...   \n",
       "72933            Т. 11, вып. 4          NaN   \n",
       "72940                Т. 62, №2          NaN   \n",
       "72941                      NaN          NaN   \n",
       "72952         Том 18. №2. 2023          NaN   \n",
       "72953                      № 2          NaN   \n",
       "\n",
       "      Публикация имеет версию на другом языке или вышла в другом издании, например, в электронной (или онлайн) версии журнала  \\\n",
       "ID                                                                                                                              \n",
       "844                                                  NaN                                                                        \n",
       "845                                                  NaN                                                                        \n",
       "846                                                  NaN                                                                        \n",
       "847                                                  NaN                                                                        \n",
       "848                                                  NaN                                                                        \n",
       "...                                                  ...                                                                        \n",
       "72933                                                NaN                                                                        \n",
       "72940                                                 Да                                                                        \n",
       "72941                                                NaN                                                                        \n",
       "72952                                                NaN                                                                        \n",
       "72953                                                NaN                                                                        \n",
       "\n",
       "      Сведения об издании              Связь с публикацией  \\\n",
       "ID                                                           \n",
       "844                   NaN                              NaN   \n",
       "845                   NaN                              NaN   \n",
       "846                   NaN                              NaN   \n",
       "847                   NaN                              NaN   \n",
       "848                   NaN                              NaN   \n",
       "...                   ...                              ...   \n",
       "72933                 NaN                              NaN   \n",
       "72940                 NaN  <a href=\"/node/72910\">72910</a>   \n",
       "72941                 NaN                              NaN   \n",
       "72952                 NaN                              NaN   \n",
       "72953                 NaN                              NaN   \n",
       "\n",
       "                                                Страницы  \\\n",
       "ID                                                         \n",
       "844                                                    -   \n",
       "845                                                    -   \n",
       "846                                                    -   \n",
       "847                                                    -   \n",
       "848                                                    -   \n",
       "...                                                  ...   \n",
       "72933            https://www.mdpi.com/2227-7390/11/4/998   \n",
       "72940                                            308–316   \n",
       "72941  158-163, https://ieeexplore.ieee.org/document/...   \n",
       "72952                                              60-72   \n",
       "72953                                               3-18   \n",
       "\n",
       "      Электронная публикация  \n",
       "ID                            \n",
       "844                      NaN  \n",
       "845                      NaN  \n",
       "846                      NaN  \n",
       "847                      NaN  \n",
       "848                      NaN  \n",
       "...                      ...  \n",
       "72933                     Да  \n",
       "72940                    NaN  \n",
       "72941                     Да  \n",
       "72952                    NaN  \n",
       "72953                    NaN  \n",
       "\n",
       "[28128 rows x 19 columns]"
      ]
     },
     "execution_count": 17,
     "metadata": {},
     "output_type": "execute_result"
    },
    {
     "name": "stdout",
     "output_type": "stream",
     "text": [
      "[{'label': 'Сравнительный анализ устойчивости различных методов оценивания параметров билинейной авторегрессионной модели', 'value': 71950}]\n"
     ]
    }
   ],
   "source": [
    "# g_pubs_df = pd.read_csv('./persons/db_pubs.csv').set_index('ID').sort_index()\n",
    "# g_pubs_df\n",
    "g_pubs_df = pd.read_csv('./data_from_json_files.csv').\\\n",
    "        set_index('ID').\\\n",
    "        drop('Unnamed: 0', axis=1).\\\n",
    "        sort_index()\n",
    "# 'Unnamed: 0' -- точно не ID публикации\n",
    "g_pubs_df = g_pubs_df[~g_pubs_df.index.duplicated(keep='first')]\n",
    "g_pubs_df"
   ]
  },
  {
   "cell_type": "code",
   "execution_count": null,
   "id": "8eb88c01-a5f1-4627-b360-0970b30132fb",
   "metadata": {},
   "outputs": [],
   "source": []
  }
 ],
 "metadata": {
  "kernelspec": {
   "display_name": "Python 3 (ipykernel)",
   "language": "python",
   "name": "python3"
  },
  "language_info": {
   "codemirror_mode": {
    "name": "ipython",
    "version": 3
   },
   "file_extension": ".py",
   "mimetype": "text/x-python",
   "name": "python",
   "nbconvert_exporter": "python",
   "pygments_lexer": "ipython3",
   "version": "3.11.4"
  }
 },
 "nbformat": 4,
 "nbformat_minor": 5
}
