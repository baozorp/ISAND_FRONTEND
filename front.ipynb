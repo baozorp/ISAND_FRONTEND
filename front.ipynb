{
 "cells": [
  {
   "cell_type": "code",
   "execution_count": 18,
   "id": "db95f332-0803-417e-8ebc-39bd810ae517",
   "metadata": {},
   "outputs": [
    {
     "name": "stdout",
     "output_type": "stream",
     "text": [
      "Requirement already satisfied: dash in ./venv/lib/python3.11/site-packages (2.12.1)\n",
      "Requirement already satisfied: Flask<2.3.0,>=1.0.4 in ./venv/lib/python3.11/site-packages (from dash) (2.2.5)\n",
      "Requirement already satisfied: Werkzeug<2.3.0 in ./venv/lib/python3.11/site-packages (from dash) (2.2.3)\n",
      "Requirement already satisfied: plotly>=5.0.0 in ./venv/lib/python3.11/site-packages (from dash) (5.16.1)\n",
      "Requirement already satisfied: dash-html-components==2.0.0 in ./venv/lib/python3.11/site-packages (from dash) (2.0.0)\n",
      "Requirement already satisfied: dash-core-components==2.0.0 in ./venv/lib/python3.11/site-packages (from dash) (2.0.0)\n",
      "Requirement already satisfied: dash-table==5.0.0 in ./venv/lib/python3.11/site-packages (from dash) (5.0.0)\n",
      "Requirement already satisfied: typing-extensions>=4.1.1 in ./venv/lib/python3.11/site-packages (from dash) (4.7.1)\n",
      "Requirement already satisfied: requests in ./venv/lib/python3.11/site-packages (from dash) (2.31.0)\n",
      "Requirement already satisfied: retrying in ./venv/lib/python3.11/site-packages (from dash) (1.3.4)\n",
      "Requirement already satisfied: ansi2html in ./venv/lib/python3.11/site-packages (from dash) (1.8.0)\n",
      "Requirement already satisfied: nest-asyncio in ./venv/lib/python3.11/site-packages (from dash) (1.5.7)\n",
      "Requirement already satisfied: setuptools in ./venv/lib/python3.11/site-packages (from dash) (68.0.0)\n",
      "Requirement already satisfied: Jinja2>=3.0 in ./venv/lib/python3.11/site-packages (from Flask<2.3.0,>=1.0.4->dash) (3.1.2)\n",
      "Requirement already satisfied: itsdangerous>=2.0 in ./venv/lib/python3.11/site-packages (from Flask<2.3.0,>=1.0.4->dash) (2.1.2)\n",
      "Requirement already satisfied: click>=8.0 in ./venv/lib/python3.11/site-packages (from Flask<2.3.0,>=1.0.4->dash) (8.1.7)\n",
      "Requirement already satisfied: tenacity>=6.2.0 in ./venv/lib/python3.11/site-packages (from plotly>=5.0.0->dash) (8.2.3)\n",
      "Requirement already satisfied: packaging in ./venv/lib/python3.11/site-packages (from plotly>=5.0.0->dash) (23.1)\n",
      "Requirement already satisfied: MarkupSafe>=2.1.1 in ./venv/lib/python3.11/site-packages (from Werkzeug<2.3.0->dash) (2.1.3)\n",
      "Requirement already satisfied: charset-normalizer<4,>=2 in ./venv/lib/python3.11/site-packages (from requests->dash) (3.2.0)\n",
      "Requirement already satisfied: idna<4,>=2.5 in ./venv/lib/python3.11/site-packages (from requests->dash) (3.4)\n",
      "Requirement already satisfied: urllib3<3,>=1.21.1 in ./venv/lib/python3.11/site-packages (from requests->dash) (2.0.4)\n",
      "Requirement already satisfied: certifi>=2017.4.17 in ./venv/lib/python3.11/site-packages (from requests->dash) (2023.7.22)\n",
      "Requirement already satisfied: six>=1.7.0 in ./venv/lib/python3.11/site-packages (from retrying->dash) (1.16.0)\n",
      "Requirement already satisfied: dash-html-components in ./venv/lib/python3.11/site-packages (2.0.0)\n",
      "Requirement already satisfied: dash-core-components in ./venv/lib/python3.11/site-packages (2.0.0)\n",
      "Requirement already satisfied: dash-table in ./venv/lib/python3.11/site-packages (5.0.0)\n"
     ]
    }
   ],
   "source": [
    "!pip install dash\n",
    "!pip install dash-html-components\n",
    "!pip install dash-core-components\n",
    "!pip install dash-table"
   ]
  },
  {
   "cell_type": "code",
   "execution_count": 19,
   "id": "8dcd1850-6d88-48dc-9d5c-c75a54b46006",
   "metadata": {},
   "outputs": [
    {
     "name": "stdout",
     "output_type": "stream",
     "text": [
      "Requirement already satisfied: pandas in ./venv/lib/python3.11/site-packages (2.0.3)\n",
      "Requirement already satisfied: python-dateutil>=2.8.2 in ./venv/lib/python3.11/site-packages (from pandas) (2.8.2)\n",
      "Requirement already satisfied: pytz>=2020.1 in ./venv/lib/python3.11/site-packages (from pandas) (2023.3)\n",
      "Requirement already satisfied: tzdata>=2022.1 in ./venv/lib/python3.11/site-packages (from pandas) (2023.3)\n",
      "Requirement already satisfied: numpy>=1.21.0 in ./venv/lib/python3.11/site-packages (from pandas) (1.25.2)\n",
      "Requirement already satisfied: six>=1.5 in ./venv/lib/python3.11/site-packages (from python-dateutil>=2.8.2->pandas) (1.16.0)\n",
      "Requirement already satisfied: numpy in ./venv/lib/python3.11/site-packages (1.25.2)\n"
     ]
    }
   ],
   "source": [
    "!pip install pandas\n",
    "!pip install numpy"
   ]
  },
  {
   "cell_type": "code",
   "execution_count": 20,
   "id": "0fad207a-ae69-4e63-95b0-596f9a52818f",
   "metadata": {},
   "outputs": [],
   "source": [
    "import pandas as pd\n",
    "import numpy as np"
   ]
  },
  {
   "cell_type": "code",
   "execution_count": 87,
   "id": "14a56d73-02b2-436c-8295-5e447a29c1e6",
   "metadata": {},
   "outputs": [
    {
     "data": {
      "text/html": [
       "\n",
       "        <iframe\n",
       "            width=\"100%\"\n",
       "            height=\"650\"\n",
       "            src=\"http://127.0.0.1:8050/\"\n",
       "            frameborder=\"0\"\n",
       "            allowfullscreen\n",
       "            \n",
       "        ></iframe>\n",
       "        "
      ],
      "text/plain": [
       "<IPython.lib.display.IFrame at 0x16e706f90>"
      ]
     },
     "metadata": {},
     "output_type": "display_data"
    }
   ],
   "source": [
    "import dash\n",
    "import pandas as pd\n",
    "from dash import dcc, html, Input, Output, callback\n",
    "\n",
    "external_stylesheets = ['https://codepen.io/chriddyp/pen/bWLwgP.css']\n",
    "\n",
    "app = dash.Dash(__name__, external_stylesheets=external_stylesheets)\n",
    "\n",
    "def combine_names(row):\n",
    "    return f\"{row['Фамилия']} {row['Имя']} {row['Отчество']}\"\n",
    "\n",
    "g_persons_df = pd.read_csv('./db_persons.csv')[['ID', 'Фамилия', 'Имя', 'Отчество']]\n",
    "g_persons_df['ФИО'] = g_persons_df.apply(combine_names, axis=1)\n",
    "gpersons = g_persons_df[['ФИО', 'ID']]\n",
    "gpersons.columns = ['label', 'value']\n",
    "gpersons = gpersons.to_dict(orient='records')\n",
    "\n",
    "app.layout = html.Div([\n",
    "    html.Label('Выберите автора'),\n",
    "    dcc.Dropdown(\n",
    "        options=gpersons,\n",
    "        placeholder=\"Выберите автора\",\n",
    "        id='author',\n",
    "    ),\n",
    "    html.Div(id='selected-author'),  # Для вывода выбранного значения\n",
    "    dcc.Dropdown(id='works-dropdown', \n",
    "                 multi=True,\n",
    "                 optionHeight=40)  # Для списка \"Работы\"\n",
    "], style={'columnCount': 1})\n",
    "\n",
    "# Глобальная переменная для хранения значения автора\n",
    "selected_author_value = None\n",
    "\n",
    "# Функция обратного вызова для обновления выбранного автора\n",
    "@app.callback(\n",
    "    Output('selected-author', 'children'),\n",
    "    Input('author', 'value')\n",
    ")\n",
    "def update_selected_author(selected_value):\n",
    "    global selected_author_value\n",
    "    selected_author_value = selected_value\n",
    "    \n",
    "    if selected_value is None:\n",
    "        return \"Выберите автора\"\n",
    "    else:\n",
    "        return f\"Выбран автор: {selected_value}\"\n",
    "\n",
    "a = None\n",
    "@app.callback(\n",
    "    Output('works-dropdown', 'options', allow_duplicate=True),\n",
    "    Output('works-dropdown', 'value'),\n",
    "    Input('works-dropdown', 'value'),\n",
    "    prevent_initial_call=True\n",
    ")\n",
    "def update_selected_author(selected_value):\n",
    "    global selected_author_value, a\n",
    "\n",
    "    # if selected_value is None:\n",
    "    #     return [], []\n",
    "    if selected_value.count('Все работы'):\n",
    "        a = selected_value\n",
    "        return [{'label': \"Все работы\", 'value': 'Все работы'}], ['Все работы']\n",
    "    else:\n",
    "        a = selected_value\n",
    "        all_options = update_works_dropdown(selected_author_value)\n",
    "        return all_options, selected_value\n",
    "\n",
    "\n",
    "# Функция обратного вызова для обновления списка \"Работы\"\n",
    "@app.callback(\n",
    "    Output('works-dropdown', 'options'),\n",
    "    Input('author', 'value')\n",
    ")\n",
    "def update_works_dropdown(selected_value):\n",
    "    \n",
    "    if selected_value is None:\n",
    "        return []\n",
    "\n",
    "    # Загрузка данных из файла \"data_from_json_files.csv\"\n",
    "    data_df = pd.read_csv('./data_from_json_files.csv')\n",
    "\n",
    "    # Преобразование выбранного ID автора в строку\n",
    "    selected_value_str = str(selected_value)\n",
    "\n",
    "    # Разделение значения \"Авторы\" на список ID авторов\n",
    "    data_df['Авторы'] = data_df['Авторы'].apply(lambda x: [] if pd.isna(x) else x.split(', '))\n",
    "\n",
    "    # Фильтрация строк, в которых в списке ID авторов есть выбранный автор\n",
    "    works = data_df[data_df['Авторы'].apply(lambda x: selected_value_str in x)]\n",
    "\n",
    "    works_data = works[['Название', 'ID']].drop_duplicates(subset=['ID'])\n",
    "    # Обрезаем названия работ до первых 15 символов\n",
    "    works_data['Название'] = works_data['Название'].str[:200]\n",
    "    \n",
    "    works_data.columns = ['label', 'value']\n",
    "    works_data = works_data.to_dict(orient='records')\n",
    "    works_data.insert(0, {'label': \"Все работы\", 'value': 'Все работы'})\n",
    "    return works_data\n",
    "\n",
    "\n",
    "\n",
    "if __name__ == '__main__':\n",
    "    app.run_server(debug=True)\n"
   ]
  },
  {
   "cell_type": "code",
   "execution_count": 84,
   "id": "9b237675-8549-436e-a46c-6ba510b42f7f",
   "metadata": {},
   "outputs": [
    {
     "name": "stdout",
     "output_type": "stream",
     "text": [
      "['Все работы']\n"
     ]
    }
   ],
   "source": [
    "print(a)"
   ]
  },
  {
   "cell_type": "code",
   "execution_count": 251,
   "id": "ba32b35a-9c1c-4e90-8f41-5b9717276d32",
   "metadata": {},
   "outputs": [
    {
     "name": "stdout",
     "output_type": "stream",
     "text": [
      "['Все работы']\n"
     ]
    }
   ],
   "source": []
  },
  {
   "cell_type": "code",
   "execution_count": null,
   "id": "41cc216c-ab16-4ecb-9d19-e61c01acc09c",
   "metadata": {},
   "outputs": [],
   "source": []
  },
  {
   "cell_type": "code",
   "execution_count": null,
   "id": "07bfa737-1f27-4446-a009-b106a4ddbc31",
   "metadata": {},
   "outputs": [],
   "source": []
  },
  {
   "cell_type": "code",
   "execution_count": null,
   "id": "e78a87fd-2921-44d2-8d19-6755a24eccbf",
   "metadata": {},
   "outputs": [],
   "source": []
  }
 ],
 "metadata": {
  "kernelspec": {
   "display_name": "Python 3 (ipykernel)",
   "language": "python",
   "name": "python3"
  },
  "language_info": {
   "codemirror_mode": {
    "name": "ipython",
    "version": 3
   },
   "file_extension": ".py",
   "mimetype": "text/x-python",
   "name": "python",
   "nbconvert_exporter": "python",
   "pygments_lexer": "ipython3",
   "version": "3.11.4"
  }
 },
 "nbformat": 4,
 "nbformat_minor": 5
}
