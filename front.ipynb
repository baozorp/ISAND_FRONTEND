{
 "cells": [
  {
   "cell_type": "code",
   "execution_count": 88,
   "id": "db95f332-0803-417e-8ebc-39bd810ae517",
   "metadata": {},
   "outputs": [
    {
     "name": "stdout",
     "output_type": "stream",
     "text": [
      "Requirement already satisfied: dash in ./venv/lib/python3.11/site-packages (2.12.1)\n",
      "Requirement already satisfied: Flask<2.3.0,>=1.0.4 in ./venv/lib/python3.11/site-packages (from dash) (2.2.5)\n",
      "Requirement already satisfied: Werkzeug<2.3.0 in ./venv/lib/python3.11/site-packages (from dash) (2.2.3)\n",
      "Requirement already satisfied: plotly>=5.0.0 in ./venv/lib/python3.11/site-packages (from dash) (5.16.1)\n",
      "Requirement already satisfied: dash-html-components==2.0.0 in ./venv/lib/python3.11/site-packages (from dash) (2.0.0)\n",
      "Requirement already satisfied: dash-core-components==2.0.0 in ./venv/lib/python3.11/site-packages (from dash) (2.0.0)\n",
      "Requirement already satisfied: dash-table==5.0.0 in ./venv/lib/python3.11/site-packages (from dash) (5.0.0)\n",
      "Requirement already satisfied: typing-extensions>=4.1.1 in ./venv/lib/python3.11/site-packages (from dash) (4.7.1)\n",
      "Requirement already satisfied: requests in ./venv/lib/python3.11/site-packages (from dash) (2.31.0)\n",
      "Requirement already satisfied: retrying in ./venv/lib/python3.11/site-packages (from dash) (1.3.4)\n",
      "Requirement already satisfied: ansi2html in ./venv/lib/python3.11/site-packages (from dash) (1.8.0)\n",
      "Requirement already satisfied: nest-asyncio in ./venv/lib/python3.11/site-packages (from dash) (1.5.7)\n",
      "Requirement already satisfied: setuptools in ./venv/lib/python3.11/site-packages (from dash) (68.0.0)\n",
      "Requirement already satisfied: Jinja2>=3.0 in ./venv/lib/python3.11/site-packages (from Flask<2.3.0,>=1.0.4->dash) (3.1.2)\n",
      "Requirement already satisfied: itsdangerous>=2.0 in ./venv/lib/python3.11/site-packages (from Flask<2.3.0,>=1.0.4->dash) (2.1.2)\n",
      "Requirement already satisfied: click>=8.0 in ./venv/lib/python3.11/site-packages (from Flask<2.3.0,>=1.0.4->dash) (8.1.7)\n",
      "Requirement already satisfied: tenacity>=6.2.0 in ./venv/lib/python3.11/site-packages (from plotly>=5.0.0->dash) (8.2.3)\n",
      "Requirement already satisfied: packaging in ./venv/lib/python3.11/site-packages (from plotly>=5.0.0->dash) (23.1)\n",
      "Requirement already satisfied: MarkupSafe>=2.1.1 in ./venv/lib/python3.11/site-packages (from Werkzeug<2.3.0->dash) (2.1.3)\n",
      "Requirement already satisfied: charset-normalizer<4,>=2 in ./venv/lib/python3.11/site-packages (from requests->dash) (3.2.0)\n",
      "Requirement already satisfied: idna<4,>=2.5 in ./venv/lib/python3.11/site-packages (from requests->dash) (3.4)\n",
      "Requirement already satisfied: urllib3<3,>=1.21.1 in ./venv/lib/python3.11/site-packages (from requests->dash) (2.0.4)\n",
      "Requirement already satisfied: certifi>=2017.4.17 in ./venv/lib/python3.11/site-packages (from requests->dash) (2023.7.22)\n",
      "Requirement already satisfied: six>=1.7.0 in ./venv/lib/python3.11/site-packages (from retrying->dash) (1.16.0)\n",
      "Requirement already satisfied: dash-html-components in ./venv/lib/python3.11/site-packages (2.0.0)\n",
      "Requirement already satisfied: dash-core-components in ./venv/lib/python3.11/site-packages (2.0.0)\n",
      "Requirement already satisfied: dash-table in ./venv/lib/python3.11/site-packages (5.0.0)\n"
     ]
    }
   ],
   "source": [
    "!pip install dash\n",
    "!pip install dash-html-components\n",
    "!pip install dash-core-components\n",
    "!pip install dash-table"
   ]
  },
  {
   "cell_type": "code",
   "execution_count": 89,
   "id": "8dcd1850-6d88-48dc-9d5c-c75a54b46006",
   "metadata": {},
   "outputs": [
    {
     "name": "stdout",
     "output_type": "stream",
     "text": [
      "Requirement already satisfied: pandas in ./venv/lib/python3.11/site-packages (2.0.3)\n",
      "Requirement already satisfied: python-dateutil>=2.8.2 in ./venv/lib/python3.11/site-packages (from pandas) (2.8.2)\n",
      "Requirement already satisfied: pytz>=2020.1 in ./venv/lib/python3.11/site-packages (from pandas) (2023.3)\n",
      "Requirement already satisfied: tzdata>=2022.1 in ./venv/lib/python3.11/site-packages (from pandas) (2023.3)\n",
      "Requirement already satisfied: numpy>=1.21.0 in ./venv/lib/python3.11/site-packages (from pandas) (1.25.2)\n",
      "Requirement already satisfied: six>=1.5 in ./venv/lib/python3.11/site-packages (from python-dateutil>=2.8.2->pandas) (1.16.0)\n",
      "Requirement already satisfied: numpy in ./venv/lib/python3.11/site-packages (1.25.2)\n"
     ]
    }
   ],
   "source": [
    "!pip install pandas\n",
    "!pip install numpy"
   ]
  },
  {
   "cell_type": "code",
   "execution_count": 90,
   "id": "0fad207a-ae69-4e63-95b0-596f9a52818f",
   "metadata": {},
   "outputs": [],
   "source": [
    "import pandas as pd\n",
    "import numpy as np"
   ]
  },
  {
   "cell_type": "code",
   "execution_count": 162,
   "id": "14a56d73-02b2-436c-8295-5e447a29c1e6",
   "metadata": {},
   "outputs": [
    {
     "data": {
      "text/html": [
       "\n",
       "        <iframe\n",
       "            width=\"100%\"\n",
       "            height=\"650\"\n",
       "            src=\"http://127.0.0.1:8050/\"\n",
       "            frameborder=\"0\"\n",
       "            allowfullscreen\n",
       "            \n",
       "        ></iframe>\n",
       "        "
      ],
      "text/plain": [
       "<IPython.lib.display.IFrame at 0x2c739d210>"
      ]
     },
     "metadata": {},
     "output_type": "display_data"
    },
    {
     "name": "stdout",
     "output_type": "stream",
     "text": [
      "[{'label': 'Model for Analyzing Impact of Path Loss on eMBB Bit Rate Degradation Under Priority URLLC Transmission in 5G Network', 'value': 71958}]\n",
      "[{'label': 'Model for Analyzing Impact of Path Loss on eMBB Bit Rate Degradation Under Priority URLLC Transmission in 5G Network', 'value': 71958}]\n",
      "[{'label': 'Model for Analyzing Impact of Path Loss on eMBB Bit Rate Degradation Under Priority URLLC Transmission in 5G Network', 'value': 71958}]\n",
      "[{'label': 'Model for Analyzing Impact of Path Loss on eMBB Bit Rate Degradation Under Priority URLLC Transmission in 5G Network', 'value': 71958}]\n",
      "[{'label': 'Model for Analyzing Impact of Path Loss on eMBB Bit Rate Degradation Under Priority URLLC Transmission in 5G Network', 'value': 71958}]\n",
      "[{'label': 'Актуальные проблемы цифровой трансформации экономики, образования и государственного управления', 'value': 71856}]\n",
      "[{'label': 'Актуальные проблемы цифровой трансформации экономики, образования и государственного управления', 'value': 71856}]\n",
      "[{'label': 'Оказание медико-социальной помощи  пожилым людям в Монголии', 'value': 71701}]\n",
      "[{'label': 'Оказание медико-социальной помощи  пожилым людям в Монголии', 'value': 71701}]\n",
      "[{'label': 'Оказание медико-социальной помощи  пожилым людям в Монголии', 'value': 71701}]\n",
      "[{'label': 'Notional models based on primary mental abstractions', 'value': 67902}, {'label': 'Верхняя и нижняя оценки Колмогоровской сложности ', 'value': 35068}, {'label': 'Корпусной подход и парадигмы познания ', 'value': 14471}, {'label': 'Аналитическая идентификация дискретных систем ', 'value': 14472}, {'label': 'Мультипроблемный анализ и многоаспектное моделирование социальных систем', 'value': 14476}, {'label': 'Уточнение базовых понятий системного подхода', 'value': 6748}, {'label': 'Многоаспектное моделирование крупномасштабных производств', 'value': 7967}, {'label': 'О существенной неполноте формальных теорий', 'value': 7392}, {'label': 'Понятийный анализ крупномасштабных систем', 'value': 7393}, {'label': 'Применение контекстной технологии программирования при создании программного обеспечения для систем управления крупномасштабными производствами', 'value': 5782}, {'label': 'Функциональная адаптация систем автоматизированного проектирования', 'value': 5783}, {'label': 'Функциональная адаптация систем автоматизированного проектирования', 'value': 8761}, {'label': 'Что истинно во всех мирах', 'value': 2909}, {'label': 'Репрезентация знаний в системах управления крупномасштабными производствами', 'value': 3233}, {'label': 'Оптимальный синтез логического управления', 'value': 2920}, {'label': 'Верификация результатов понятийного анализа', 'value': 2921}, {'label': 'Понятийный анализ и понятийное моделирование', 'value': 67903}, {'label': 'An Overview of Phonetic Encoding Algorithms', 'value': 60068}, {'label': 'Обзор алгоритмов фонетического кодирования', 'value': 54117}, {'label': 'Информационная система с понятийной моделью предметной области', 'value': 46484}, {'label': 'Ортохаотическая передача данных', 'value': 46485}, {'label': 'Формализованная экспертная оценка качества образовательных мультимедиа-ресурсов', 'value': 46506}, {'label': 'Отложенная слоговая сегментация при распознавании речи ', 'value': 68737}, {'label': 'Совмещенные сети управления и данных  ', 'value': 35067}, {'label': 'Оценка трудности и сложности учебных задач на основе синтаксического анализа текстов', 'value': 28567}, {'label': 'ОЦЕНКА ТРУДНОСТИ И СЛОЖНОСТИ УЧЕБНЫХ ЗАДАЧ НА ОСНОВЕ СИНТАКСИЧЕСКОГО АНАЛИЗА ТЕКСТОВ', 'value': 31657}, {'label': 'Динамическое управление бизнес-процессами на основе совмещенных сетей управления и данных', 'value': 19511}, {'label': 'О трудноформализуемых задачах', 'value': 26479}, {'label': 'Корпусной подход к идентификации социальных и экологических явлений', 'value': 26480}, {'label': 'Аналитическая идентификация дискретных объектов ', 'value': 14473}, {'label': 'Описание семантики контекстно-свободных языков методом математической индукции', 'value': 5781}, {'label': 'Разнесенный грамматический разбор', 'value': 2896}, {'label': 'Алгебраическая декомпозиция дискретных функций', 'value': 2914}, {'label': 'Понятийный анализ и контекстная технология программирования ', 'value': 14480}, {'label': 'Additive algebra for signal and image processing ', 'value': 14527}, {'label': 'Микропроцессорные устройства обработки сигналов. Учебное пособие ', 'value': 31717}, {'label': 'Intelligent information systems based on notional models without relationships', 'value': 64788}, {'label': 'The notional model of knowledge representation', 'value': 64787}, {'label': 'Язык описания знаний', 'value': 67900}, {'label': 'The Knowledge Description Language', 'value': 67901}, {'label': 'Понятийные модели представления и обработки знаний', 'value': 60069}, {'label': 'Звуковой поиск в базах данных на основе фонетического кодирования', 'value': 68738}, {'label': 'Понятийное моделирование', 'value': 54114}, {'label': 'Крупномасштабная информационная система', 'value': 54115}, {'label': 'Large-Scale Information Systems based on Conceptual Models ', 'value': 54116}, {'label': 'Язык ImageScript для кроссплатформенного анализа, обработки и распознавания сигналов и изображений', 'value': 46489}, {'label': 'Моделирование процессов совмещенными сетями управления и данных ', 'value': 35069}, {'label': 'НЕКОГЕРЕНТНАЯ ПЕРЕДАЧА ДАННЫХ С ПОМОЩЬЮ ОРТОГОНАЛЬНЫХ ШУМОВЫХ СИГНАЛОВ', 'value': 31643}, {'label': 'ТЕХНОЛОГИИ ПРОГРАММИРОВАНИЯ ДЛЯ РЕШЕНИЯ ТРУДНОФОРМАЛИЗУЕМЫХ ЗАДАЧ', 'value': 31648}, {'label': 'ОРТОХАОТИЧЕСКАЯ ПЕРЕДАЧА ДАННЫХ', 'value': 31650}, {'label': 'КАЧЕСТВЕННАЯ И КОЛИЧЕСТВЕННАЯ ОЦЕНКА ЗНАНИЙ В АКТИВНЫХ СИСТЕМАХ', 'value': 31652}, {'label': 'Dynamic business process management based on the combined control and data networks', 'value': 25174}, {'label': 'Трудноформализуемые задачи и контекстная технология программирования', 'value': 26475}, {'label': 'Контекстное распознавание слитной речи', 'value': 26478}, {'label': 'Аналитический синтез комбинационных схем', 'value': 19473}, {'label': 'Реализация естественного параллелизма процессов на основе моделей с совмещенными сетями управления и данных', 'value': 19475}, {'label': 'Интервальная динамическая логика', 'value': 19476}, {'label': 'Описание технологических процессов в интервальной динамической логике', 'value': 19477}, {'label': 'Динамическое управление бизнес-процессами на основе совмещенных сетей управленя и данных', 'value': 19478}, {'label': 'Применение интервальной динамической логики для мониторинга крупномасштабных процессов', 'value': 19505}, {'label': 'Мультипроблемный анализ и многоаспектное моделирование социальных систем ', 'value': 14475}, {'label': 'О понятии понятия ', 'value': 14477}, {'label': 'Корпусной подход в теории активных систем', 'value': 14478}, {'label': 'Образование и определение понятий в информатике', 'value': 7966}, {'label': 'Аналитическая идентификация дискретных устройств', 'value': 8790}, {'label': 'Методика определения эффективности параллельных вычислений', 'value': 8791}, {'label': 'Параллельные вычисления в методах теории управления на основе совмещенных сетей данных и управления', 'value': 8830}, {'label': 'Аналитический синтез формул', 'value': 7388}, {'label': 'Спектральная идентификация дискретных систем', 'value': 7390}, {'label': 'Математическое моделирование систем на основе языковой формализации результатов понятийного анализа', 'value': 7391}, {'label': 'Методы анализа крупномасштабного производства. Понятийный анализ и моделирование', 'value': 7394}, {'label': 'Прикладной понятийный анализ', 'value': 7395}, {'label': 'Некоторые определения из области системного подхода', 'value': 7396}, {'label': 'О существенной неполноте формального метода', 'value': 7397}, {'label': 'Optimal Spectral Expansion for Discrete Control', 'value': 4949}, {'label': 'Контекстная технология программирования', 'value': 5786}, {'label': 'Сертификация систем логического управления на основе количества выполняемых операций и объема обрабатываемых данных', 'value': 5788}, {'label': 'Применение логической теории понятий при разработке систем логического управления', 'value': 5789}, {'label': 'Семантически замкнутая онтология', 'value': 3823}, {'label': 'Репрезентация знаний', 'value': 4290}, {'label': 'Исчисление понятий', 'value': 4305}, {'label': 'Аналитический синтез дискретных устройств', 'value': 8792}]\n",
      "[{'label': 'Notional models based on primary mental abstractions', 'value': 67902}, {'label': 'Верхняя и нижняя оценки Колмогоровской сложности ', 'value': 35068}, {'label': 'Корпусной подход и парадигмы познания ', 'value': 14471}, {'label': 'Аналитическая идентификация дискретных систем ', 'value': 14472}, {'label': 'Мультипроблемный анализ и многоаспектное моделирование социальных систем', 'value': 14476}, {'label': 'Уточнение базовых понятий системного подхода', 'value': 6748}, {'label': 'Многоаспектное моделирование крупномасштабных производств', 'value': 7967}, {'label': 'О существенной неполноте формальных теорий', 'value': 7392}, {'label': 'Понятийный анализ крупномасштабных систем', 'value': 7393}, {'label': 'Применение контекстной технологии программирования при создании программного обеспечения для систем управления крупномасштабными производствами', 'value': 5782}, {'label': 'Функциональная адаптация систем автоматизированного проектирования', 'value': 5783}, {'label': 'Функциональная адаптация систем автоматизированного проектирования', 'value': 8761}, {'label': 'Что истинно во всех мирах', 'value': 2909}, {'label': 'Репрезентация знаний в системах управления крупномасштабными производствами', 'value': 3233}, {'label': 'Оптимальный синтез логического управления', 'value': 2920}, {'label': 'Верификация результатов понятийного анализа', 'value': 2921}, {'label': 'Понятийный анализ и понятийное моделирование', 'value': 67903}, {'label': 'An Overview of Phonetic Encoding Algorithms', 'value': 60068}, {'label': 'Обзор алгоритмов фонетического кодирования', 'value': 54117}, {'label': 'Информационная система с понятийной моделью предметной области', 'value': 46484}, {'label': 'Ортохаотическая передача данных', 'value': 46485}, {'label': 'Формализованная экспертная оценка качества образовательных мультимедиа-ресурсов', 'value': 46506}, {'label': 'Отложенная слоговая сегментация при распознавании речи ', 'value': 68737}, {'label': 'Совмещенные сети управления и данных  ', 'value': 35067}, {'label': 'Оценка трудности и сложности учебных задач на основе синтаксического анализа текстов', 'value': 28567}, {'label': 'ОЦЕНКА ТРУДНОСТИ И СЛОЖНОСТИ УЧЕБНЫХ ЗАДАЧ НА ОСНОВЕ СИНТАКСИЧЕСКОГО АНАЛИЗА ТЕКСТОВ', 'value': 31657}, {'label': 'Динамическое управление бизнес-процессами на основе совмещенных сетей управления и данных', 'value': 19511}, {'label': 'О трудноформализуемых задачах', 'value': 26479}, {'label': 'Корпусной подход к идентификации социальных и экологических явлений', 'value': 26480}, {'label': 'Аналитическая идентификация дискретных объектов ', 'value': 14473}, {'label': 'Описание семантики контекстно-свободных языков методом математической индукции', 'value': 5781}, {'label': 'Разнесенный грамматический разбор', 'value': 2896}, {'label': 'Алгебраическая декомпозиция дискретных функций', 'value': 2914}, {'label': 'Понятийный анализ и контекстная технология программирования ', 'value': 14480}, {'label': 'Additive algebra for signal and image processing ', 'value': 14527}, {'label': 'Микропроцессорные устройства обработки сигналов. Учебное пособие ', 'value': 31717}, {'label': 'Intelligent information systems based on notional models without relationships', 'value': 64788}, {'label': 'The notional model of knowledge representation', 'value': 64787}, {'label': 'Язык описания знаний', 'value': 67900}, {'label': 'The Knowledge Description Language', 'value': 67901}, {'label': 'Понятийные модели представления и обработки знаний', 'value': 60069}, {'label': 'Звуковой поиск в базах данных на основе фонетического кодирования', 'value': 68738}, {'label': 'Понятийное моделирование', 'value': 54114}, {'label': 'Крупномасштабная информационная система', 'value': 54115}, {'label': 'Large-Scale Information Systems based on Conceptual Models ', 'value': 54116}, {'label': 'Язык ImageScript для кроссплатформенного анализа, обработки и распознавания сигналов и изображений', 'value': 46489}, {'label': 'Моделирование процессов совмещенными сетями управления и данных ', 'value': 35069}, {'label': 'НЕКОГЕРЕНТНАЯ ПЕРЕДАЧА ДАННЫХ С ПОМОЩЬЮ ОРТОГОНАЛЬНЫХ ШУМОВЫХ СИГНАЛОВ', 'value': 31643}, {'label': 'ТЕХНОЛОГИИ ПРОГРАММИРОВАНИЯ ДЛЯ РЕШЕНИЯ ТРУДНОФОРМАЛИЗУЕМЫХ ЗАДАЧ', 'value': 31648}, {'label': 'ОРТОХАОТИЧЕСКАЯ ПЕРЕДАЧА ДАННЫХ', 'value': 31650}, {'label': 'КАЧЕСТВЕННАЯ И КОЛИЧЕСТВЕННАЯ ОЦЕНКА ЗНАНИЙ В АКТИВНЫХ СИСТЕМАХ', 'value': 31652}, {'label': 'Dynamic business process management based on the combined control and data networks', 'value': 25174}, {'label': 'Трудноформализуемые задачи и контекстная технология программирования', 'value': 26475}, {'label': 'Контекстное распознавание слитной речи', 'value': 26478}, {'label': 'Аналитический синтез комбинационных схем', 'value': 19473}, {'label': 'Реализация естественного параллелизма процессов на основе моделей с совмещенными сетями управления и данных', 'value': 19475}, {'label': 'Интервальная динамическая логика', 'value': 19476}, {'label': 'Описание технологических процессов в интервальной динамической логике', 'value': 19477}, {'label': 'Динамическое управление бизнес-процессами на основе совмещенных сетей управленя и данных', 'value': 19478}, {'label': 'Применение интервальной динамической логики для мониторинга крупномасштабных процессов', 'value': 19505}, {'label': 'Мультипроблемный анализ и многоаспектное моделирование социальных систем ', 'value': 14475}, {'label': 'О понятии понятия ', 'value': 14477}, {'label': 'Корпусной подход в теории активных систем', 'value': 14478}, {'label': 'Образование и определение понятий в информатике', 'value': 7966}, {'label': 'Аналитическая идентификация дискретных устройств', 'value': 8790}, {'label': 'Методика определения эффективности параллельных вычислений', 'value': 8791}, {'label': 'Параллельные вычисления в методах теории управления на основе совмещенных сетей данных и управления', 'value': 8830}, {'label': 'Аналитический синтез формул', 'value': 7388}, {'label': 'Спектральная идентификация дискретных систем', 'value': 7390}, {'label': 'Математическое моделирование систем на основе языковой формализации результатов понятийного анализа', 'value': 7391}, {'label': 'Методы анализа крупномасштабного производства. Понятийный анализ и моделирование', 'value': 7394}, {'label': 'Прикладной понятийный анализ', 'value': 7395}, {'label': 'Некоторые определения из области системного подхода', 'value': 7396}, {'label': 'О существенной неполноте формального метода', 'value': 7397}, {'label': 'Optimal Spectral Expansion for Discrete Control', 'value': 4949}, {'label': 'Контекстная технология программирования', 'value': 5786}, {'label': 'Сертификация систем логического управления на основе количества выполняемых операций и объема обрабатываемых данных', 'value': 5788}, {'label': 'Применение логической теории понятий при разработке систем логического управления', 'value': 5789}, {'label': 'Семантически замкнутая онтология', 'value': 3823}, {'label': 'Репрезентация знаний', 'value': 4290}, {'label': 'Исчисление понятий', 'value': 4305}, {'label': 'Аналитический синтез дискретных устройств', 'value': 8792}]\n"
     ]
    }
   ],
   "source": [
    "import dash\n",
    "import pandas as pd\n",
    "from dash import dcc, html, Input, Output, callback\n",
    "\n",
    "external_stylesheets = ['https://codepen.io/chriddyp/pen/bWLwgP.css']\n",
    "\n",
    "app = dash.Dash(__name__, external_stylesheets=external_stylesheets)\n",
    "\n",
    "def combine_names(row):\n",
    "    return f\"{row['Фамилия']} {row['Имя']} {row['Отчество']}\"\n",
    "\n",
    "g_persons_df = pd.read_csv('./db_persons.csv')[['ID', 'Фамилия', 'Имя', 'Отчество']]\n",
    "g_persons_df['ФИО'] = g_persons_df.apply(combine_names, axis=1)\n",
    "gpersons = g_persons_df[['ФИО', 'ID']]\n",
    "gpersons.columns = ['label', 'value']\n",
    "gpersons = gpersons.to_dict(orient='records')\n",
    "\n",
    "app.layout = html.Div([\n",
    "    html.Label('Выберите автора'),\n",
    "    dcc.Dropdown(\n",
    "        options=gpersons,\n",
    "        placeholder=\"Выберите автора\",\n",
    "        id='author',\n",
    "    ),\n",
    "    html.Div(id='selected-author'),  # Для вывода выбранного значения\n",
    "    dcc.Dropdown(id='works-dropdown', \n",
    "                 multi=True,\n",
    "                 optionHeight=40)  # Для списка \"Работы\"\n",
    "], style={'columnCount': 1})\n",
    "\n",
    "# Глобальная переменная для хранения значения автора\n",
    "selected_author_value = None\n",
    "\n",
    "# Функция обратного вызова для обновления выбранного автора\n",
    "@app.callback(\n",
    "    Output('selected-author', 'children'),\n",
    "    Input('author', 'value')\n",
    ")\n",
    "def update_selected_author(selected_value):\n",
    "    global selected_author_value\n",
    "    selected_author_value = selected_value\n",
    "    \n",
    "    if selected_value is None:\n",
    "        return \"Выберите автора\"\n",
    "    else:\n",
    "        return f\"Выбран автор: {selected_value}\"\n",
    "\n",
    "@app.callback(\n",
    "    Output('works-dropdown', 'options', allow_duplicate=True),\n",
    "    Output('works-dropdown', 'value', allow_duplicate=True),\n",
    "    Input('works-dropdown', 'value'),\n",
    "    prevent_initial_call=True\n",
    ")\n",
    "def update_selected_author(selected_value):\n",
    "    global selected_author_value\n",
    "\n",
    "    if selected_value is None:\n",
    "        return [], []\n",
    "    if selected_value.count('Все работы'):\n",
    "        return [{'label': \"Все работы\", 'value': 'Все работы'}], ['Все работы']\n",
    "    else:\n",
    "        all_options = update_works_dropdown(selected_author_value)\n",
    "        return all_options[0], selected_value\n",
    "\n",
    "\n",
    "# Функция обратного вызова для обновления списка \"Работы\"\n",
    "@app.callback(\n",
    "    Output('works-dropdown', 'options'),\n",
    "    Output('works-dropdown', 'value'),\n",
    "    Input('author', 'value'),\n",
    ")\n",
    "def update_works_dropdown(selected_value):\n",
    "    \n",
    "    if selected_value is None:\n",
    "        return [], []\n",
    "\n",
    "    # Загрузка данных из файла \"data_from_json_files.csv\"\n",
    "    data_df = pd.read_csv('./data_from_json_files.csv')\n",
    "\n",
    "    # Преобразование выбранного ID автора в строку\n",
    "    selected_value_str = str(selected_value)\n",
    "\n",
    "    # Разделение значения \"Авторы\" на список ID авторов\n",
    "    data_df['Авторы'] = data_df['Авторы'].apply(lambda x: [] if pd.isna(x) else x.split(', '))\n",
    "\n",
    "    # Фильтрация строк, в которых в списке ID авторов есть выбранный автор\n",
    "    works = data_df[data_df['Авторы'].apply(lambda x: selected_value_str in x)]\n",
    "\n",
    "    works_data = works[['Название', 'ID']].drop_duplicates(subset=['ID'])\n",
    "    # Обрезаем названия работ до первых 15 символов\n",
    "    works_data['Название'] = works_data['Название'].str[:200]\n",
    "    \n",
    "    works_data.columns = ['label', 'value']\n",
    "    works_data = works_data.to_dict(orient='records')\n",
    "    print(works_data)\n",
    "    works_data.insert(0, {'label': \"Все работы\", 'value': 'Все работы'})\n",
    "    return works_data, []\n",
    "\n",
    "\n",
    "\n",
    "if __name__ == '__main__':\n",
    "    app.run_server(debug=True)\n"
   ]
  },
  {
   "cell_type": "code",
   "execution_count": null,
   "id": "8dcc0e1e-40df-4e52-8572-1c82596f85f8",
   "metadata": {},
   "outputs": [],
   "source": []
  }
 ],
 "metadata": {
  "kernelspec": {
   "display_name": "Python 3 (ipykernel)",
   "language": "python",
   "name": "python3"
  },
  "language_info": {
   "codemirror_mode": {
    "name": "ipython",
    "version": 3
   },
   "file_extension": ".py",
   "mimetype": "text/x-python",
   "name": "python",
   "nbconvert_exporter": "python",
   "pygments_lexer": "ipython3",
   "version": "3.11.4"
  }
 },
 "nbformat": 4,
 "nbformat_minor": 5
}
