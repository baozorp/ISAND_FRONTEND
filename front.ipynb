{
 "cells": [
  {
   "cell_type": "code",
   "execution_count": 88,
   "id": "db95f332-0803-417e-8ebc-39bd810ae517",
   "metadata": {},
   "outputs": [
    {
     "name": "stdout",
     "output_type": "stream",
     "text": [
      "Requirement already satisfied: dash in ./venv/lib/python3.11/site-packages (2.12.1)\n",
      "Requirement already satisfied: Flask<2.3.0,>=1.0.4 in ./venv/lib/python3.11/site-packages (from dash) (2.2.5)\n",
      "Requirement already satisfied: Werkzeug<2.3.0 in ./venv/lib/python3.11/site-packages (from dash) (2.2.3)\n",
      "Requirement already satisfied: plotly>=5.0.0 in ./venv/lib/python3.11/site-packages (from dash) (5.16.1)\n",
      "Requirement already satisfied: dash-html-components==2.0.0 in ./venv/lib/python3.11/site-packages (from dash) (2.0.0)\n",
      "Requirement already satisfied: dash-core-components==2.0.0 in ./venv/lib/python3.11/site-packages (from dash) (2.0.0)\n",
      "Requirement already satisfied: dash-table==5.0.0 in ./venv/lib/python3.11/site-packages (from dash) (5.0.0)\n",
      "Requirement already satisfied: typing-extensions>=4.1.1 in ./venv/lib/python3.11/site-packages (from dash) (4.7.1)\n",
      "Requirement already satisfied: requests in ./venv/lib/python3.11/site-packages (from dash) (2.31.0)\n",
      "Requirement already satisfied: retrying in ./venv/lib/python3.11/site-packages (from dash) (1.3.4)\n",
      "Requirement already satisfied: ansi2html in ./venv/lib/python3.11/site-packages (from dash) (1.8.0)\n",
      "Requirement already satisfied: nest-asyncio in ./venv/lib/python3.11/site-packages (from dash) (1.5.7)\n",
      "Requirement already satisfied: setuptools in ./venv/lib/python3.11/site-packages (from dash) (68.0.0)\n",
      "Requirement already satisfied: Jinja2>=3.0 in ./venv/lib/python3.11/site-packages (from Flask<2.3.0,>=1.0.4->dash) (3.1.2)\n",
      "Requirement already satisfied: itsdangerous>=2.0 in ./venv/lib/python3.11/site-packages (from Flask<2.3.0,>=1.0.4->dash) (2.1.2)\n",
      "Requirement already satisfied: click>=8.0 in ./venv/lib/python3.11/site-packages (from Flask<2.3.0,>=1.0.4->dash) (8.1.7)\n",
      "Requirement already satisfied: tenacity>=6.2.0 in ./venv/lib/python3.11/site-packages (from plotly>=5.0.0->dash) (8.2.3)\n",
      "Requirement already satisfied: packaging in ./venv/lib/python3.11/site-packages (from plotly>=5.0.0->dash) (23.1)\n",
      "Requirement already satisfied: MarkupSafe>=2.1.1 in ./venv/lib/python3.11/site-packages (from Werkzeug<2.3.0->dash) (2.1.3)\n",
      "Requirement already satisfied: charset-normalizer<4,>=2 in ./venv/lib/python3.11/site-packages (from requests->dash) (3.2.0)\n",
      "Requirement already satisfied: idna<4,>=2.5 in ./venv/lib/python3.11/site-packages (from requests->dash) (3.4)\n",
      "Requirement already satisfied: urllib3<3,>=1.21.1 in ./venv/lib/python3.11/site-packages (from requests->dash) (2.0.4)\n",
      "Requirement already satisfied: certifi>=2017.4.17 in ./venv/lib/python3.11/site-packages (from requests->dash) (2023.7.22)\n",
      "Requirement already satisfied: six>=1.7.0 in ./venv/lib/python3.11/site-packages (from retrying->dash) (1.16.0)\n",
      "Requirement already satisfied: dash-html-components in ./venv/lib/python3.11/site-packages (2.0.0)\n",
      "Requirement already satisfied: dash-core-components in ./venv/lib/python3.11/site-packages (2.0.0)\n",
      "Requirement already satisfied: dash-table in ./venv/lib/python3.11/site-packages (5.0.0)\n"
     ]
    }
   ],
   "source": [
    "!pip install dash\n",
    "!pip install dash-html-components\n",
    "!pip install dash-core-components\n",
    "!pip install dash-table"
   ]
  },
  {
   "cell_type": "code",
   "execution_count": 89,
   "id": "8dcd1850-6d88-48dc-9d5c-c75a54b46006",
   "metadata": {},
   "outputs": [
    {
     "name": "stdout",
     "output_type": "stream",
     "text": [
      "Requirement already satisfied: pandas in ./venv/lib/python3.11/site-packages (2.0.3)\n",
      "Requirement already satisfied: python-dateutil>=2.8.2 in ./venv/lib/python3.11/site-packages (from pandas) (2.8.2)\n",
      "Requirement already satisfied: pytz>=2020.1 in ./venv/lib/python3.11/site-packages (from pandas) (2023.3)\n",
      "Requirement already satisfied: tzdata>=2022.1 in ./venv/lib/python3.11/site-packages (from pandas) (2023.3)\n",
      "Requirement already satisfied: numpy>=1.21.0 in ./venv/lib/python3.11/site-packages (from pandas) (1.25.2)\n",
      "Requirement already satisfied: six>=1.5 in ./venv/lib/python3.11/site-packages (from python-dateutil>=2.8.2->pandas) (1.16.0)\n",
      "Requirement already satisfied: numpy in ./venv/lib/python3.11/site-packages (1.25.2)\n"
     ]
    }
   ],
   "source": [
    "!pip install pandas\n",
    "!pip install numpy"
   ]
  },
  {
   "cell_type": "code",
   "execution_count": 90,
   "id": "0fad207a-ae69-4e63-95b0-596f9a52818f",
   "metadata": {},
   "outputs": [],
   "source": [
    "import pandas as pd\n",
    "import numpy as np"
   ]
  },
  {
   "cell_type": "code",
   "execution_count": 148,
   "id": "14a56d73-02b2-436c-8295-5e447a29c1e6",
   "metadata": {},
   "outputs": [
    {
     "data": {
      "text/html": [
       "\n",
       "        <iframe\n",
       "            width=\"100%\"\n",
       "            height=\"650\"\n",
       "            src=\"http://127.0.0.1:8050/\"\n",
       "            frameborder=\"0\"\n",
       "            allowfullscreen\n",
       "            \n",
       "        ></iframe>\n",
       "        "
      ],
      "text/plain": [
       "<IPython.lib.display.IFrame at 0x1293bc990>"
      ]
     },
     "metadata": {},
     "output_type": "display_data"
    },
    {
     "name": "stdout",
     "output_type": "stream",
     "text": [
      "[{'label': 'Model for Analyzing Impact of Path Loss on eMBB Bit Rate Degradation Under Priority URLLC Transmission in 5G Network', 'value': 71958}]\n",
      "[{'label': 'Model for Analyzing Impact of Path Loss on eMBB Bit Rate Degradation Under Priority URLLC Transmission in 5G Network', 'value': 71958}]\n",
      "[{'label': 'Algorithm for Multi-drone Path Planning and Coverage of Agricultural Fields', 'value': 66264}, {'label': 'Разработка сценариев полетных заданий БПЛА в виртуальном полигоне для задач группового управления', 'value': 58990}, {'label': 'Developing a Flight Mission Simulator in the Context of UAVs Group Control', 'value': 59232}, {'label': 'Применение виртуального полигона для формирования полетного задания БПЛА в условиях групповго взаимодействия', 'value': 60582}, {'label': 'Тренажерный комплекс беспилотной авиационной системы (БАС) полевого назначения', 'value': 51578}, {'label': 'Применение виртуальных полигонов для отработки сценариев группового управления бпла мультикоптерного типа', 'value': 53560}, {'label': 'Виртуальный полигон как инструмент отработки сценариев полета беспилотными летательными аппаратами', 'value': 53781}, {'label': 'Использование виртуального полигона для отработки взаимодействия  роботов в многоагентной робототехнической системе', 'value': 49564}]\n",
      "[{'label': 'Algorithm for Multi-drone Path Planning and Coverage of Agricultural Fields', 'value': 66264}, {'label': 'Разработка сценариев полетных заданий БПЛА в виртуальном полигоне для задач группового управления', 'value': 58990}, {'label': 'Developing a Flight Mission Simulator in the Context of UAVs Group Control', 'value': 59232}, {'label': 'Применение виртуального полигона для формирования полетного задания БПЛА в условиях групповго взаимодействия', 'value': 60582}, {'label': 'Тренажерный комплекс беспилотной авиационной системы (БАС) полевого назначения', 'value': 51578}, {'label': 'Применение виртуальных полигонов для отработки сценариев группового управления бпла мультикоптерного типа', 'value': 53560}, {'label': 'Виртуальный полигон как инструмент отработки сценариев полета беспилотными летательными аппаратами', 'value': 53781}, {'label': 'Использование виртуального полигона для отработки взаимодействия  роботов в многоагентной робототехнической системе', 'value': 49564}]\n",
      "[{'label': 'Algorithm for Multi-drone Path Planning and Coverage of Agricultural Fields', 'value': 66264}, {'label': 'Разработка сценариев полетных заданий БПЛА в виртуальном полигоне для задач группового управления', 'value': 58990}, {'label': 'Developing a Flight Mission Simulator in the Context of UAVs Group Control', 'value': 59232}, {'label': 'Применение виртуального полигона для формирования полетного задания БПЛА в условиях групповго взаимодействия', 'value': 60582}, {'label': 'Тренажерный комплекс беспилотной авиационной системы (БАС) полевого назначения', 'value': 51578}, {'label': 'Применение виртуальных полигонов для отработки сценариев группового управления бпла мультикоптерного типа', 'value': 53560}, {'label': 'Виртуальный полигон как инструмент отработки сценариев полета беспилотными летательными аппаратами', 'value': 53781}, {'label': 'Использование виртуального полигона для отработки взаимодействия  роботов в многоагентной робототехнической системе', 'value': 49564}]\n",
      "[{'label': 'Algorithm for Multi-drone Path Planning and Coverage of Agricultural Fields', 'value': 66264}, {'label': 'Разработка сценариев полетных заданий БПЛА в виртуальном полигоне для задач группового управления', 'value': 58990}, {'label': 'Developing a Flight Mission Simulator in the Context of UAVs Group Control', 'value': 59232}, {'label': 'Применение виртуального полигона для формирования полетного задания БПЛА в условиях групповго взаимодействия', 'value': 60582}, {'label': 'Тренажерный комплекс беспилотной авиационной системы (БАС) полевого назначения', 'value': 51578}, {'label': 'Применение виртуальных полигонов для отработки сценариев группового управления бпла мультикоптерного типа', 'value': 53560}, {'label': 'Виртуальный полигон как инструмент отработки сценариев полета беспилотными летательными аппаратами', 'value': 53781}, {'label': 'Использование виртуального полигона для отработки взаимодействия  роботов в многоагентной робототехнической системе', 'value': 49564}]\n",
      "[{'label': 'Оказание медико-социальной помощи  пожилым людям в Монголии', 'value': 71701}]\n",
      "[{'label': 'Analysis of pricing mechanisms in a microgrid with active electric energy storages', 'value': 60271}, {'label': 'Машинный расчет несимметричных режимов трехфазных цепей с динамической нагрузкой', 'value': 66985}, {'label': 'Проектирование рынка электроэнергии с накопителями энергии', 'value': 60143}, {'label': 'Ускорение метода последовательного квадратичного программирования в задаче оптимизации установившихся режимов ЭЭС', 'value': 53628}, {'label': 'Locational Marginal Pricing in Multi-Period Power Markets', 'value': 53629}, {'label': 'Contribution of transmission and voltage constraints to the formation of locational marginal prices', 'value': 48878}, {'label': 'Вопросы формирования равновесных узловых цен оптового рынка электроэнергии', 'value': 44158}, {'label': 'Gaming Experiments for Analysis of Pricing Mechanisms at Electricity Markets', 'value': 40151}, {'label': 'Новая декомпозиция узловых цен на вклады ценообразующих заявок при оптимизации режимов электрических систем', 'value': 44301}, {'label': 'Применение линейного регрессионного анализа при моделировании и прогнозировании цен оптового рынка электроэнергии', 'value': 44302}, {'label': 'Identifying congestion zones with weighted decomposition of locational marginal prices', 'value': 44157}, {'label': 'Clustering approach for determination of congestion zones on nodal electricity markets in long term periods', 'value': 44300}]\n",
      "[{'label': 'LINGUOCULTURAL ANALYSIS OF COMPLIANCE, INTERPRETATION OF THE DEFINITION AND MAIN FUNCTIONS', 'value': 71440}]\n"
     ]
    }
   ],
   "source": [
    "import dash\n",
    "import pandas as pd\n",
    "from dash import dcc, html, Input, Output, callback\n",
    "\n",
    "external_stylesheets = ['https://codepen.io/chriddyp/pen/bWLwgP.css']\n",
    "\n",
    "app = dash.Dash(__name__, external_stylesheets=external_stylesheets)\n",
    "\n",
    "def combine_names(row):\n",
    "    return f\"{row['Фамилия']} {row['Имя']} {row['Отчество']}\"\n",
    "\n",
    "g_persons_df = pd.read_csv('./db_persons.csv')[['ID', 'Фамилия', 'Имя', 'Отчество']]\n",
    "g_persons_df['ФИО'] = g_persons_df.apply(combine_names, axis=1)\n",
    "gpersons = g_persons_df[['ФИО', 'ID']]\n",
    "gpersons.columns = ['label', 'value']\n",
    "gpersons = gpersons.to_dict(orient='records')\n",
    "\n",
    "app.layout = html.Div([\n",
    "    html.Label('Выберите автора'),\n",
    "    dcc.Dropdown(\n",
    "        options=gpersons,\n",
    "        placeholder=\"Выберите автора\",\n",
    "        id='author',\n",
    "    ),\n",
    "    html.Div(id='selected-author'),  # Для вывода выбранного значения\n",
    "    dcc.Dropdown(id='works-dropdown', \n",
    "                 multi=True,\n",
    "                 optionHeight=40)  # Для списка \"Работы\"\n",
    "], style={'columnCount': 1})\n",
    "\n",
    "# Глобальная переменная для хранения значения автора\n",
    "selected_author_value = None\n",
    "\n",
    "# Функция обратного вызова для обновления выбранного автора\n",
    "@app.callback(\n",
    "    Output('selected-author', 'children'),\n",
    "    Input('author', 'value')\n",
    ")\n",
    "def update_selected_author(selected_value):\n",
    "    global selected_author_value\n",
    "    selected_author_value = selected_value\n",
    "    \n",
    "    if selected_value is None:\n",
    "        return \"Выберите автора\"\n",
    "    else:\n",
    "        return f\"Выбран автор: {selected_value}\"\n",
    "\n",
    "@app.callback(\n",
    "    Output('works-dropdown', 'options', allow_duplicate=True),\n",
    "    Output('works-dropdown', 'value', allow_duplicate=True),\n",
    "    Input('works-dropdown', 'value'),\n",
    "    prevent_initial_call=True\n",
    ")\n",
    "def update_selected_author(selected_value):\n",
    "    global selected_author_value, a\n",
    "\n",
    "    if selected_value is None:\n",
    "        return [], []\n",
    "    if selected_value.count('Все работы'):\n",
    "        return [{'label': \"Все работы\", 'value': 'Все работы'}], ['Все работы']\n",
    "    else:\n",
    "        all_options = update_works_dropdown(selected_author_value)\n",
    "        return all_options, selected_value\n",
    "\n",
    "\n",
    "# Функция обратного вызова для обновления списка \"Работы\"\n",
    "@app.callback(\n",
    "    Output('works-dropdown', 'options'),\n",
    "    Input('author', 'value'),\n",
    ")\n",
    "def update_works_dropdown(selected_value):\n",
    "    \n",
    "    if selected_value is None:\n",
    "        return []\n",
    "\n",
    "    # Загрузка данных из файла \"data_from_json_files.csv\"\n",
    "    data_df = pd.read_csv('./data_from_json_files.csv')\n",
    "\n",
    "    # Преобразование выбранного ID автора в строку\n",
    "    selected_value_str = str(selected_value)\n",
    "\n",
    "    # Разделение значения \"Авторы\" на список ID авторов\n",
    "    data_df['Авторы'] = data_df['Авторы'].apply(lambda x: [] if pd.isna(x) else x.split(', '))\n",
    "\n",
    "    # Фильтрация строк, в которых в списке ID авторов есть выбранный автор\n",
    "    works = data_df[data_df['Авторы'].apply(lambda x: selected_value_str in x)]\n",
    "\n",
    "    works_data = works[['Название', 'ID']].drop_duplicates(subset=['ID'])\n",
    "    # Обрезаем названия работ до первых 15 символов\n",
    "    works_data['Название'] = works_data['Название'].str[:200]\n",
    "    \n",
    "    works_data.columns = ['label', 'value']\n",
    "    works_data = works_data.to_dict(orient='records')\n",
    "    print(works_data)\n",
    "    works_data.insert(0, {'label': \"Все работы\", 'value': 'Все работы'})\n",
    "    return works_data\n",
    "\n",
    "\n",
    "\n",
    "if __name__ == '__main__':\n",
    "    app.run_server(debug=True)\n"
   ]
  },
  {
   "cell_type": "code",
   "execution_count": null,
   "id": "8dcc0e1e-40df-4e52-8572-1c82596f85f8",
   "metadata": {},
   "outputs": [],
   "source": []
  }
 ],
 "metadata": {
  "kernelspec": {
   "display_name": "Python 3 (ipykernel)",
   "language": "python",
   "name": "python3"
  },
  "language_info": {
   "codemirror_mode": {
    "name": "ipython",
    "version": 3
   },
   "file_extension": ".py",
   "mimetype": "text/x-python",
   "name": "python",
   "nbconvert_exporter": "python",
   "pygments_lexer": "ipython3",
   "version": "3.11.4"
  }
 },
 "nbformat": 4,
 "nbformat_minor": 5
}
